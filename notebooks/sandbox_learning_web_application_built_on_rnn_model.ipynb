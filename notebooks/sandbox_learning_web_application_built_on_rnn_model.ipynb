{
 "cells": [
  {
   "cell_type": "code",
   "execution_count": 1,
   "metadata": {},
   "outputs": [],
   "source": [
    "%load_ext autoreload\n",
    "%autoreload 2"
   ]
  },
  {
   "cell_type": "markdown",
   "metadata": {},
   "source": [
    "## Step 0: Set up the notebook"
   ]
  },
  {
   "cell_type": "code",
   "execution_count": 2,
   "metadata": {},
   "outputs": [],
   "source": [
    "import warnings\n",
    "from IPython.core.interactiveshell import InteractiveShell\n",
    "from IPython.display import HTML\n",
    "\n",
    "InteractiveShell.ast_node_interactivity = 'all'  # display full outputs in Jupyter\n",
    "warnings.filterwarnings('ignore', category=RuntimeWarning)"
   ]
  },
  {
   "cell_type": "code",
   "execution_count": 3,
   "metadata": {},
   "outputs": [
    {
     "name": "stdout",
     "output_type": "stream",
     "text": [
      "[name: \"/device:CPU:0\"\n",
      "device_type: \"CPU\"\n",
      "memory_limit: 268435456\n",
      "locality {\n",
      "}\n",
      "incarnation: 14933613904855907303\n",
      "]\n"
     ]
    }
   ],
   "source": [
    "from tensorflow.python.client import device_lib\n",
    "print(device_lib.list_local_devices())"
   ]
  },
  {
   "cell_type": "markdown",
   "metadata": {},
   "source": [
    "## Step 1: Load data"
   ]
  },
  {
   "cell_type": "code",
   "execution_count": 4,
   "metadata": {},
   "outputs": [],
   "source": [
    "import pandas as pd\n",
    "import numpy as np"
   ]
  },
  {
   "cell_type": "markdown",
   "metadata": {},
   "source": [
    "Textual data"
   ]
  },
  {
   "cell_type": "code",
   "execution_count": 5,
   "metadata": {},
   "outputs": [
    {
     "data": {
      "text/html": [
       "<div>\n",
       "<style scoped>\n",
       "    .dataframe tbody tr th:only-of-type {\n",
       "        vertical-align: middle;\n",
       "    }\n",
       "\n",
       "    .dataframe tbody tr th {\n",
       "        vertical-align: top;\n",
       "    }\n",
       "\n",
       "    .dataframe thead th {\n",
       "        text-align: right;\n",
       "    }\n",
       "</style>\n",
       "<table border=\"1\" class=\"dataframe\">\n",
       "  <thead>\n",
       "    <tr style=\"text-align: right;\">\n",
       "      <th></th>\n",
       "      <th>patent_abstract</th>\n",
       "      <th>patent_date</th>\n",
       "      <th>patent_number</th>\n",
       "      <th>patent_title</th>\n",
       "    </tr>\n",
       "  </thead>\n",
       "  <tbody>\n",
       "    <tr>\n",
       "      <th>0</th>\n",
       "      <td>\" A \"\"Barometer\"\" Neuron enhances stability in...</td>\n",
       "      <td>1996-07-09</td>\n",
       "      <td>5535303</td>\n",
       "      <td>\"\"\"Barometer\"\" neuron for a neural network\"</td>\n",
       "    </tr>\n",
       "    <tr>\n",
       "      <th>1</th>\n",
       "      <td>\" This invention is a novel high-speed neural ...</td>\n",
       "      <td>1993-10-19</td>\n",
       "      <td>5255349</td>\n",
       "      <td>\"Electronic neural network for solving \"\"trave...</td>\n",
       "    </tr>\n",
       "    <tr>\n",
       "      <th>2</th>\n",
       "      <td>An optical information processor for use as a ...</td>\n",
       "      <td>1995-01-17</td>\n",
       "      <td>5383042</td>\n",
       "      <td>3 layer liquid crystal neural network with out...</td>\n",
       "    </tr>\n",
       "    <tr>\n",
       "      <th>3</th>\n",
       "      <td>A method and system for intelligent control of...</td>\n",
       "      <td>2001-01-02</td>\n",
       "      <td>6169981</td>\n",
       "      <td>3-brain architecture for an intelligent decisi...</td>\n",
       "    </tr>\n",
       "    <tr>\n",
       "      <th>4</th>\n",
       "      <td>A method and system for intelligent control of...</td>\n",
       "      <td>2003-06-17</td>\n",
       "      <td>6581048</td>\n",
       "      <td>3-brain architecture for an intelligent decisi...</td>\n",
       "    </tr>\n",
       "  </tbody>\n",
       "</table>\n",
       "</div>"
      ],
      "text/plain": [
       "                                     patent_abstract patent_date  \\\n",
       "0  \" A \"\"Barometer\"\" Neuron enhances stability in...  1996-07-09   \n",
       "1  \" This invention is a novel high-speed neural ...  1993-10-19   \n",
       "2  An optical information processor for use as a ...  1995-01-17   \n",
       "3  A method and system for intelligent control of...  2001-01-02   \n",
       "4  A method and system for intelligent control of...  2003-06-17   \n",
       "\n",
       "  patent_number                                       patent_title  \n",
       "0       5535303        \"\"\"Barometer\"\" neuron for a neural network\"  \n",
       "1       5255349  \"Electronic neural network for solving \"\"trave...  \n",
       "2       5383042  3 layer liquid crystal neural network with out...  \n",
       "3       6169981  3-brain architecture for an intelligent decisi...  \n",
       "4       6581048  3-brain architecture for an intelligent decisi...  "
      ]
     },
     "execution_count": 5,
     "metadata": {},
     "output_type": "execute_result"
    },
    {
     "data": {
      "text/plain": [
       "3522"
      ]
     },
     "execution_count": 5,
     "metadata": {},
     "output_type": "execute_result"
    }
   ],
   "source": [
    "data = pd.read_csv('../data/neural_network_patent_query.csv', parse_dates=['patent_date'])\n",
    "data.head()\n",
    "\n",
    "# Extract abstracts\n",
    "original_abstracts = list(data['patent_abstract'])\n",
    "len(original_abstracts)"
   ]
  },
  {
   "cell_type": "markdown",
   "metadata": {},
   "source": [
    "## Step 2: Big Data Munging & Exploration"
   ]
  },
  {
   "cell_type": "code",
   "execution_count": 6,
   "metadata": {},
   "outputs": [
    {
     "data": {
      "text/plain": [
       "'The present invention provides an apparatus and a method for classifying and recognizing image patterns using a second-order neural network, thereby achieving high-rate parallel processing while lowering the complexity. The second-order neural network, which is made of adders and multipliers, corrects positional translations generated in a complex-log mapping unit to output the same result for the same object irrespective of the scale and/or rotation of the object. The present invention enables high-rate image pattern classification and recognition based on parallel processing, which is the advantage obtained in neural network models, because consistent neural networks and consistent network structure computation models are applied to all steps from the image input step to the pattern classifying and recognizing step.'"
      ]
     },
     "execution_count": 6,
     "metadata": {},
     "output_type": "execute_result"
    }
   ],
   "source": [
    "data['patent_abstract'][100]"
   ]
  },
  {
   "cell_type": "markdown",
   "metadata": {},
   "source": [
    "Explore time series"
   ]
  },
  {
   "cell_type": "code",
   "execution_count": 24,
   "metadata": {},
   "outputs": [
    {
     "data": {
      "text/plain": [
       "<matplotlib.axes._subplots.AxesSubplot at 0x116c32c88>"
      ]
     },
     "execution_count": 24,
     "metadata": {},
     "output_type": "execute_result"
    },
    {
     "data": {
      "text/plain": [
       "Text(0,0.5,'Number of Patents')"
      ]
     },
     "execution_count": 24,
     "metadata": {},
     "output_type": "execute_result"
    },
    {
     "data": {
      "text/plain": [
       "Text(0.5,0,'Date')"
      ]
     },
     "execution_count": 24,
     "metadata": {},
     "output_type": "execute_result"
    },
    {
     "data": {
      "image/png": "[encoded data removed]",
      "text/plain": [
       "<Figure size 1152x576 with 1 Axes>"
      ]
     },
     "metadata": {},
     "output_type": "display_data"
    }
   ],
   "source": [
    "import matplotlib.pyplot as plt\n",
    "%matplotlib inline\n",
    "\n",
    "plt.style.use('fivethirtyeight')\n",
    "\n",
    "\n",
    "data['year-month'] = [\n",
    "    pd.datetime(year, month, 1) for year, month in zip(\n",
    "        data['patent_date'].dt.year, data['patent_date'].dt.month)\n",
    "]\n",
    "\n",
    "monthly = data.groupby('year-month')['patent_abstract'].count().reset_index()\n",
    "\n",
    "monthly.set_index('year-month')['patent_abstract'].plot(figsize=(16, 8))\n",
    "plt.ylabel('Number of Patents')\n",
    "plt.xlabel('Date')"
   ]
  },
  {
   "cell_type": "markdown",
   "metadata": {},
   "source": [
    "## Step 3: convert word sequences to integer sequences"
   ]
  },
  {
   "cell_type": "markdown",
   "metadata": {},
   "source": [
    "What is doing here includes:\n",
    "- read csv as a pandas dataframe\n",
    "- parse the patent_abstract column to a list and format sequence (add spaces around punctuation and remove spaces)\n",
    "- make sequences by turning a set of texts into integers/index -> only keep sentences with more than training length tokens\n",
    "- create train/valid split, random shuffle features and labels, labels are one-hot encoded"
   ]
  },
  {
   "cell_type": "markdown",
   "metadata": {},
   "source": [
    "3. 1 Tokenization methods using tokenizer in keras"
   ]
  },
  {
   "cell_type": "code",
   "execution_count": 6,
   "metadata": {},
   "outputs": [
    {
     "data": {
      "text/plain": [
       "'Systems and methods using a neural network based portable absorption spectrometer system for real-time automatic evaluation of tissue injury are described. An apparatus includes an electromagnetic signal generator; an optical fiber connected to the electromagnetic signal generator; a fiber optic probe connected to the optical fiber; a broad band spectrometer connected to the fiber optic probe; and a hybrid neural network connected to the broad band spectrometer. The hybrid neural network includes a principle component analyzer of broad band spectral data obtained from said broad band spectrometer.'"
      ]
     },
     "execution_count": 6,
     "metadata": {},
     "output_type": "execute_result"
    },
    {
     "data": {
      "text/plain": [
       "604"
      ]
     },
     "execution_count": 6,
     "metadata": {},
     "output_type": "execute_result"
    }
   ],
   "source": [
    "example = data['patent_abstract'][15]\n",
    "example\n",
    "len(example) # the length of example is a count of characters and punctuations"
   ]
  },
  {
   "cell_type": "code",
   "execution_count": 7,
   "metadata": {},
   "outputs": [
    {
     "name": "stderr",
     "output_type": "stream",
     "text": [
      "Using TensorFlow backend.\n"
     ]
    }
   ],
   "source": [
    "from keras.preprocessing.text import Tokenizer\n",
    "import re"
   ]
  },
  {
   "cell_type": "code",
   "execution_count": 8,
   "metadata": {},
   "outputs": [],
   "source": [
    "def format_sequence(s):\n",
    "    \"\"\"Add spaces around punctuation and remove references to images/citations.\"\"\"\n",
    "    \n",
    "    # Add spaces around punctuation\n",
    "    s =  re.sub(r'(?<=[^\\s0-9])(?=[.,;?])', r' ', s)\n",
    "    \n",
    "    # Remove references to figures\n",
    "    s = re.sub(r'\\((\\d+)\\)', r'', s)\n",
    "    \n",
    "    # Remove double spaces\n",
    "    s = re.sub(r'\\s\\s', ' ', s)\n",
    "    return s"
   ]
  },
  {
   "cell_type": "code",
   "execution_count": 9,
   "metadata": {},
   "outputs": [],
   "source": [
    "format_ex = format_sequence(example)"
   ]
  },
  {
   "cell_type": "code",
   "execution_count": 10,
   "metadata": {},
   "outputs": [],
   "source": [
    "filters='!\"#$%&()*+,-./:;<=>?@[\\\\]^_`{|}~\\t\\n'  # choose to remove the punctuations\n",
    "tokenizer = Tokenizer(lower = True, filters=filters)\n",
    "tokenizer.fit_on_texts([example])"
   ]
  },
  {
   "cell_type": "markdown",
   "metadata": {},
   "source": [
    "Tokenization, removes punctuation and generate a sequence of integers."
   ]
  },
  {
   "cell_type": "code",
   "execution_count": 11,
   "metadata": {},
   "outputs": [
    {
     "data": {
      "text/plain": [
       "(88, 604)"
      ]
     },
     "execution_count": 11,
     "metadata": {},
     "output_type": "execute_result"
    }
   ],
   "source": [
    "len(tokenizer.texts_to_sequences([example])[0]), len(example)"
   ]
  },
  {
   "cell_type": "code",
   "execution_count": 12,
   "metadata": {},
   "outputs": [
    {
     "data": {
      "text/plain": [
       "(88, 611)"
      ]
     },
     "execution_count": 12,
     "metadata": {},
     "output_type": "execute_result"
    }
   ],
   "source": [
    "tokenizer.fit_on_texts([format_ex])\n",
    "len(tokenizer.texts_to_sequences([format_ex])[0]), len(format_ex)"
   ]
  },
  {
   "cell_type": "code",
   "execution_count": 13,
   "metadata": {},
   "outputs": [
    {
     "data": {
      "text/plain": [
       "'systems and methods using a neural network based portable absorption spectrometer system for real time automatic evaluation of tissue injury are described an apparatus includes an electromagnetic signal generator an optical fiber connected to the electromagnetic signal generator a fiber optic probe connected to the optical fiber a broad band spectrometer connected to the fiber optic probe and a hybrid neural network connected to the broad band spectrometer the hybrid neural network includes a principle component analyzer of broad band spectral data obtained from said broad band spectrometer'"
      ]
     },
     "execution_count": 13,
     "metadata": {},
     "output_type": "execute_result"
    }
   ],
   "source": [
    "# using the reverse index to get original word and join them\n",
    "s = tokenizer.texts_to_sequences([example])[0]\n",
    "' '.join(tokenizer.index_word[i] for i in s)"
   ]
  },
  {
   "cell_type": "code",
   "execution_count": 106,
   "metadata": {},
   "outputs": [
    {
     "data": {
      "text/plain": [
       "'systems and methods using a neural network based portable absorption spectrometer system for real time automatic evaluation of tissue injury are described an apparatus includes an electromagnetic signal generator an optical fiber connected to the electromagnetic signal generator a fiber optic probe connected to the optical fiber a broad band spectrometer connected to the fiber optic probe and a hybrid neural network connected to the broad band spectrometer the hybrid neural network includes a principle component analyzer of broad band spectral data obtained from said broad band spectrometer'"
      ]
     },
     "execution_count": 106,
     "metadata": {},
     "output_type": "execute_result"
    }
   ],
   "source": [
    "format_s = tokenizer.texts_to_sequences([format_ex])[0]\n",
    "' '.join(tokenizer.index_word[i] for i in s)"
   ]
  },
  {
   "cell_type": "code",
   "execution_count": 14,
   "metadata": {},
   "outputs": [
    {
     "data": {
      "text/plain": [
       "dict_keys(['a', 'the', 'spectrometer', 'fiber', 'connected', 'to', 'broad', 'band', 'neural', 'network', 'an', 'and', 'of', 'includes', 'electromagnetic', 'signal', 'generator', 'optical', 'optic', 'probe', 'hybrid', 'systems', 'methods', 'using', 'based', 'portable', 'absorption', 'system', 'for', 'real', 'time', 'automatic', 'evaluation', 'tissue', 'injury', 'are', 'described', 'apparatus', 'principle', 'component', 'analyzer', 'spectral', 'data', 'obtained', 'from', 'said'])"
      ]
     },
     "execution_count": 14,
     "metadata": {},
     "output_type": "execute_result"
    },
    {
     "data": {
      "text/plain": [
       "{'a': 1,\n",
       " 'the': 2,\n",
       " 'spectrometer': 3,\n",
       " 'fiber': 4,\n",
       " 'connected': 5,\n",
       " 'to': 6,\n",
       " 'broad': 7,\n",
       " 'band': 8,\n",
       " 'neural': 9,\n",
       " 'network': 10,\n",
       " 'an': 11,\n",
       " 'and': 12,\n",
       " 'of': 13,\n",
       " 'includes': 14,\n",
       " 'electromagnetic': 15,\n",
       " 'signal': 16,\n",
       " 'generator': 17,\n",
       " 'optical': 18,\n",
       " 'optic': 19,\n",
       " 'probe': 20,\n",
       " 'hybrid': 21,\n",
       " 'systems': 22,\n",
       " 'methods': 23,\n",
       " 'using': 24,\n",
       " 'based': 25,\n",
       " 'portable': 26,\n",
       " 'absorption': 27,\n",
       " 'system': 28,\n",
       " 'for': 29,\n",
       " 'real': 30,\n",
       " 'time': 31,\n",
       " 'automatic': 32,\n",
       " 'evaluation': 33,\n",
       " 'tissue': 34,\n",
       " 'injury': 35,\n",
       " 'are': 36,\n",
       " 'described': 37,\n",
       " 'apparatus': 38,\n",
       " 'principle': 39,\n",
       " 'component': 40,\n",
       " 'analyzer': 41,\n",
       " 'spectral': 42,\n",
       " 'data': 43,\n",
       " 'obtained': 44,\n",
       " 'from': 45,\n",
       " 'said': 46}"
      ]
     },
     "execution_count": 14,
     "metadata": {},
     "output_type": "execute_result"
    }
   ],
   "source": [
    "#  word index\n",
    "tokenizer.word_index.keys()\n",
    "tokenizer.word_index"
   ]
  },
  {
   "cell_type": "markdown",
   "metadata": {},
   "source": [
    "## Step 4: Generate Training Data for the Model"
   ]
  },
  {
   "cell_type": "markdown",
   "metadata": {},
   "source": [
    "Format sequence -> tokenize sequence -> generate sequences using training length -> train/test split of generated sequences -> output traing_dict (optional)"
   ]
  },
  {
   "cell_type": "code",
   "execution_count": 19,
   "metadata": {},
   "outputs": [],
   "source": [
    "original_abstracts = list(data['patent_abstract'])"
   ]
  },
  {
   "cell_type": "code",
   "execution_count": 20,
   "metadata": {},
   "outputs": [],
   "source": [
    "abstracts = [format_sequence(a) for a in original_abstracts]"
   ]
  },
  {
   "cell_type": "code",
   "execution_count": 17,
   "metadata": {},
   "outputs": [],
   "source": [
    "def make_sequences(texts, training_length = 50,\n",
    "                   lower = True, filters='!\"#$%&()*+,-./:;<=>?@[\\\\]^_`{|}~\\t\\n'):\n",
    "    \"\"\"Turn a set of texts into sequences of integers\"\"\"\n",
    "    \n",
    "    # Create the tokenizer object and train on texts\n",
    "    tokenizer = Tokenizer(lower=lower, filters=filters)\n",
    "    tokenizer.fit_on_texts(texts)\n",
    "    \n",
    "    # Create look-up dictionaries and reverse look-ups\n",
    "    word_idx = tokenizer.word_index\n",
    "    idx_word = tokenizer.index_word\n",
    "    num_words = len(word_idx) + 1\n",
    "    word_counts = tokenizer.word_counts\n",
    "    \n",
    "    print(f'There are {num_words} unique words.')\n",
    "    \n",
    "    # Convert text to sequences of integers\n",
    "    sequences = tokenizer.texts_to_sequences(texts)\n",
    "    \n",
    "    # Limit to sequences with more than training length tokens\n",
    "    seq_lengths = [len(x) for x in sequences]\n",
    "    over_idx = [i for i, l in enumerate(seq_lengths) if l > (training_length + 20)]\n",
    "    \n",
    "    new_texts = []\n",
    "    new_sequences = []\n",
    "    \n",
    "    # Only keep sequences with more than training length tokens\n",
    "    for i in over_idx:\n",
    "        new_texts.append(texts[i])\n",
    "        new_sequences.append(sequences[i])\n",
    "        \n",
    "    features = []\n",
    "    labels = []\n",
    "    \n",
    "    # Iterate through the sequences of tokens\n",
    "    for seq in new_sequences:\n",
    "        \n",
    "        # Create multiple training examples from each sequence\n",
    "        for i in range(training_length, len(seq)):\n",
    "            # Extract the features and label\n",
    "            extract = seq[i - training_length: i + 1]\n",
    "            \n",
    "            # Set the features and label\n",
    "            features.append(extract[:-1])\n",
    "            labels.append(extract[-1])\n",
    "    \n",
    "    print(f'There are {len(features)} sequences.')\n",
    "    \n",
    "    # Return everything needed for setting up the model\n",
    "    return word_idx, idx_word, num_words, word_counts, new_texts, new_sequences, features, labels"
   ]
  },
  {
   "cell_type": "code",
   "execution_count": 18,
   "metadata": {},
   "outputs": [
    {
     "name": "stdout",
     "output_type": "stream",
     "text": [
      "There are 11695 unique words.\n",
      "There are 293001 sequences.\n"
     ]
    }
   ],
   "source": [
    "word_idx, idx_word, num_words, word_counts, new_texts, new_sequences, features, labels = make_sequences(abstracts)"
   ]
  },
  {
   "cell_type": "code",
   "execution_count": 34,
   "metadata": {},
   "outputs": [
    {
     "data": {
      "text/plain": [
       "{'the': 1,\n",
       " 'a': 2,\n",
       " 'of': 3,\n",
       " 'and': 4,\n",
       " 'to': 5,\n",
       " 'network': 6,\n",
       " 'neural': 7,\n",
       " 'is': 8,\n",
       " 'in': 9,\n",
       " 'for': 10,\n",
       " 'an': 11,\n",
       " 'data': 12,\n",
       " 'by': 13,\n",
       " 'are': 14,\n",
       " 'input': 15,\n",
       " 'or': 16,\n",
       " 'system': 17,\n",
       " 'output': 18,\n",
       " 'with': 19,\n",
       " 'from': 20,\n",
       " 'each': 21,\n",
       " 'which': 22,\n",
       " 'be': 23,\n",
       " 'on': 24,\n",
       " 'as': 25,\n",
       " 'that': 26,\n",
       " 'signal': 27,\n",
       " 'one': 28,\n",
       " 'method': 29,\n",
       " 'image': 30,\n",
       " 'at': 31,\n",
       " 'using': 32,\n",
       " 'plurality': 33,\n",
       " 'based': 34,\n",
       " 'first': 35,\n",
       " 'layer': 36,\n",
       " 'includes': 37,\n",
       " 'set': 38,\n",
       " 'can': 39,\n",
       " 'training': 40,\n",
       " 'control': 41,\n",
       " 'processing': 42,\n",
       " 'may': 43,\n",
       " 'values': 44,\n",
       " 'time': 45,\n",
       " 'model': 46,\n",
       " 'second': 47,\n",
       " 'information': 48,\n",
       " 'value': 49,\n",
       " 'signals': 50,\n",
       " 'learning': 51,\n",
       " 'process': 52,\n",
       " 'used': 53,\n",
       " 'neuron': 54,\n",
       " 'such': 55,\n",
       " 'least': 56,\n",
       " 'pattern': 57,\n",
       " 'device': 58,\n",
       " 'between': 59,\n",
       " 'apparatus': 60,\n",
       " 'vector': 61,\n",
       " 'circuit': 62,\n",
       " 'unit': 63,\n",
       " 'having': 64,\n",
       " 'more': 65,\n",
       " 'function': 66,\n",
       " 'into': 67,\n",
       " 'neurons': 68,\n",
       " 'trained': 69,\n",
       " 'parameters': 70,\n",
       " 'invention': 71,\n",
       " 'provided': 72,\n",
       " 'corresponding': 73,\n",
       " 'feature': 74,\n",
       " 'also': 75,\n",
       " 'recognition': 76,\n",
       " 'artificial': 77,\n",
       " 'then': 78,\n",
       " 'networks': 79,\n",
       " 'this': 80,\n",
       " 'weight': 81,\n",
       " 'has': 82,\n",
       " 'computer': 83,\n",
       " 'number': 84,\n",
       " 'state': 85,\n",
       " 'inputs': 86,\n",
       " 'object': 87,\n",
       " 'present': 88,\n",
       " 'comprises': 89,\n",
       " 'speech': 90,\n",
       " 'including': 91,\n",
       " 'memory': 92,\n",
       " 'other': 93,\n",
       " 'associated': 94,\n",
       " 'through': 95,\n",
       " 'sensor': 96,\n",
       " 'images': 97,\n",
       " 'sub': 98,\n",
       " 'outputs': 99,\n",
       " 'user': 100,\n",
       " 'error': 101,\n",
       " 'parameter': 102,\n",
       " 'systems': 103,\n",
       " 'within': 104,\n",
       " 'current': 105,\n",
       " 'methods': 106,\n",
       " 'vectors': 107,\n",
       " 'use': 108,\n",
       " 'determined': 109,\n",
       " 'operation': 110,\n",
       " 'nodes': 111,\n",
       " 'generate': 112,\n",
       " 'connected': 113,\n",
       " 'two': 114,\n",
       " 'controller': 115,\n",
       " 'processor': 116,\n",
       " 'elements': 117,\n",
       " 'when': 118,\n",
       " 'digital': 119,\n",
       " 'node': 120,\n",
       " 'weights': 121,\n",
       " 'disclosed': 122,\n",
       " 'predetermined': 123,\n",
       " 'features': 124,\n",
       " 'response': 125,\n",
       " 'analysis': 126,\n",
       " 'determining': 127,\n",
       " 'target': 128,\n",
       " 'patterns': 129,\n",
       " 'provides': 130,\n",
       " 'determine': 131,\n",
       " 'during': 132,\n",
       " 'n': 133,\n",
       " 'means': 134,\n",
       " 'array': 135,\n",
       " 'algorithm': 136,\n",
       " 'different': 137,\n",
       " 'non': 138,\n",
       " 'selected': 139,\n",
       " 'multiple': 140,\n",
       " 'stored': 141,\n",
       " 'being': 142,\n",
       " 'generated': 143,\n",
       " 'generating': 144,\n",
       " 'include': 145,\n",
       " 'provide': 146,\n",
       " 'further': 147,\n",
       " 'it': 148,\n",
       " 'structure': 149,\n",
       " 'module': 150,\n",
       " 'so': 151,\n",
       " 'classification': 152,\n",
       " 'respective': 153,\n",
       " 'according': 154,\n",
       " 'fuzzy': 155,\n",
       " 'applied': 156,\n",
       " 'element': 157,\n",
       " 'obtained': 158,\n",
       " 'said': 159,\n",
       " 'level': 160,\n",
       " 'comprising': 161,\n",
       " 'matrix': 162,\n",
       " 'color': 163,\n",
       " 'all': 164,\n",
       " 'variables': 165,\n",
       " 'wherein': 166,\n",
       " 'vehicle': 167,\n",
       " 'form': 168,\n",
       " 'sequence': 169,\n",
       " 'if': 170,\n",
       " 'desired': 171,\n",
       " 'embodiment': 172,\n",
       " 'these': 173,\n",
       " 'order': 174,\n",
       " 'detection': 175,\n",
       " 'synapse': 176,\n",
       " 'frequency': 177,\n",
       " 'receiving': 178,\n",
       " 'result': 179,\n",
       " 'results': 180,\n",
       " 'linear': 181,\n",
       " 'hidden': 182,\n",
       " 'not': 183,\n",
       " 'providing': 184,\n",
       " 'sets': 185,\n",
       " 'high': 186,\n",
       " 'connection': 187,\n",
       " 'multi': 188,\n",
       " 'layers': 189,\n",
       " 'representing': 190,\n",
       " 'real': 191,\n",
       " 'light': 192,\n",
       " 'processed': 193,\n",
       " 'characteristics': 194,\n",
       " 'its': 195,\n",
       " 'component': 196,\n",
       " 'synaptic': 197,\n",
       " 'type': 198,\n",
       " 'predicted': 199,\n",
       " 'uses': 200,\n",
       " 'e': 201,\n",
       " 'operating': 202,\n",
       " 'units': 203,\n",
       " 'example': 204,\n",
       " 'configured': 205,\n",
       " 'engine': 206,\n",
       " 'position': 207,\n",
       " 'performance': 208,\n",
       " 'condition': 209,\n",
       " 'adaptive': 210,\n",
       " 'dimensional': 211,\n",
       " 'new': 212,\n",
       " 'characteristic': 213,\n",
       " 'part': 214,\n",
       " 'particular': 215,\n",
       " 'generates': 216,\n",
       " 'analog': 217,\n",
       " 'than': 218,\n",
       " 'receives': 219,\n",
       " 'functions': 220,\n",
       " 'optical': 221,\n",
       " 'i': 222,\n",
       " 'logic': 223,\n",
       " 'out': 224,\n",
       " 'have': 225,\n",
       " 'produce': 226,\n",
       " 'reference': 227,\n",
       " 'conditions': 228,\n",
       " 'sample': 229,\n",
       " 'voltage': 230,\n",
       " 'detected': 231,\n",
       " 'known': 232,\n",
       " 'components': 233,\n",
       " '1': 234,\n",
       " 'performed': 235,\n",
       " 'models': 236,\n",
       " 'difference': 237,\n",
       " 'upon': 238,\n",
       " 'variable': 239,\n",
       " 'measured': 240,\n",
       " 'described': 241,\n",
       " 'received': 242,\n",
       " 'given': 243,\n",
       " 'any': 244,\n",
       " 'performing': 245,\n",
       " 'back': 246,\n",
       " 'another': 247,\n",
       " 'group': 248,\n",
       " 'threshold': 249,\n",
       " 'detecting': 250,\n",
       " 'objects': 251,\n",
       " 'application': 252,\n",
       " 'where': 253,\n",
       " 'rate': 254,\n",
       " 'power': 255,\n",
       " 'single': 256,\n",
       " 'extracted': 257,\n",
       " 'feedback': 258,\n",
       " 'whether': 259,\n",
       " 'point': 260,\n",
       " 'line': 261,\n",
       " 'section': 262,\n",
       " 'storage': 263,\n",
       " 'temperature': 264,\n",
       " 'devices': 265,\n",
       " 'implemented': 266,\n",
       " 'basis': 267,\n",
       " 'computing': 268,\n",
       " 'controlled': 269,\n",
       " 'field': 270,\n",
       " 'various': 271,\n",
       " 'space': 272,\n",
       " 'techniques': 273,\n",
       " 'portion': 274,\n",
       " 'energy': 275,\n",
       " 'accordance': 276,\n",
       " 'acoustic': 277,\n",
       " 'character': 278,\n",
       " 'after': 279,\n",
       " 'controlling': 280,\n",
       " 'been': 281,\n",
       " 'cell': 282,\n",
       " 'location': 283,\n",
       " 'area': 284,\n",
       " 'electronic': 285,\n",
       " 'both': 286,\n",
       " 'via': 287,\n",
       " 'nonlinear': 288,\n",
       " 'machine': 289,\n",
       " 'steps': 290,\n",
       " 'sensors': 291,\n",
       " 'circuits': 292,\n",
       " 'classifier': 293,\n",
       " 'representation': 294,\n",
       " 'samples': 295,\n",
       " 'coupled': 296,\n",
       " 'three': 297,\n",
       " 'source': 298,\n",
       " 'region': 299,\n",
       " 'same': 300,\n",
       " 'train': 301,\n",
       " 'ann': 302,\n",
       " 'noise': 303,\n",
       " 'calculated': 304,\n",
       " 'points': 305,\n",
       " 'database': 306,\n",
       " 'specific': 307,\n",
       " 'architecture': 308,\n",
       " 'only': 309,\n",
       " 'over': 310,\n",
       " 'event': 311,\n",
       " 'thereby': 312,\n",
       " 'g': 313,\n",
       " 'weighted': 314,\n",
       " 'audio': 315,\n",
       " 'representative': 316,\n",
       " 'class': 317,\n",
       " 'combination': 318,\n",
       " 'prediction': 319,\n",
       " 'video': 320,\n",
       " 'phase': 321,\n",
       " 'program': 322,\n",
       " 'series': 323,\n",
       " 'related': 324,\n",
       " 'convolutional': 325,\n",
       " 'weighting': 326,\n",
       " 'decision': 327,\n",
       " 'cells': 328,\n",
       " 'block': 329,\n",
       " 'parallel': 330,\n",
       " 'content': 331,\n",
       " 'change': 332,\n",
       " 'product': 333,\n",
       " 'rule': 334,\n",
       " 'formed': 335,\n",
       " 'local': 336,\n",
       " 'step': 337,\n",
       " 'test': 338,\n",
       " 'well': 339,\n",
       " 'internal': 340,\n",
       " 'intermediate': 341,\n",
       " 'patient': 342,\n",
       " 'filter': 343,\n",
       " 'dynamic': 344,\n",
       " 'coefficients': 345,\n",
       " 'indicative': 346,\n",
       " 'thus': 347,\n",
       " 'mode': 348,\n",
       " 'bit': 349,\n",
       " 'obtain': 350,\n",
       " 'storing': 351,\n",
       " 'monitoring': 352,\n",
       " 'distance': 353,\n",
       " 'preferably': 354,\n",
       " 'self': 355,\n",
       " 'integrated': 356,\n",
       " 'actual': 357,\n",
       " 'search': 358,\n",
       " 'initial': 359,\n",
       " 'determines': 360,\n",
       " 'physical': 361,\n",
       " 'pressure': 362,\n",
       " 'measurements': 363,\n",
       " 'regions': 364,\n",
       " 'extraction': 365,\n",
       " 'speed': 366,\n",
       " 'plant': 367,\n",
       " 'made': 368,\n",
       " 'connections': 369,\n",
       " 'automatically': 370,\n",
       " 'map': 371,\n",
       " 'subject': 372,\n",
       " 'while': 373,\n",
       " 'derived': 374,\n",
       " 'embodiments': 375,\n",
       " 'pixel': 376,\n",
       " 'combined': 377,\n",
       " 'detector': 378,\n",
       " 'domain': 379,\n",
       " 'stage': 380,\n",
       " 'pre': 381,\n",
       " 'either': 382,\n",
       " 'identify': 383,\n",
       " 'defined': 384,\n",
       " 'propagation': 385,\n",
       " 'learned': 386,\n",
       " 'receive': 387,\n",
       " 'rules': 388,\n",
       " 'flow': 389,\n",
       " 'third': 390,\n",
       " 'estimated': 391,\n",
       " 'about': 392,\n",
       " 'range': 393,\n",
       " 'optimal': 394,\n",
       " 'processes': 395,\n",
       " 'calculating': 396,\n",
       " 'text': 397,\n",
       " 'quality': 398,\n",
       " 'identifying': 399,\n",
       " 'base': 400,\n",
       " 'channel': 401,\n",
       " 'individual': 402,\n",
       " 'measurement': 403,\n",
       " 'distribution': 404,\n",
       " 'up': 405,\n",
       " 'binary': 406,\n",
       " 'correction': 407,\n",
       " 'interface': 408,\n",
       " 'words': 409,\n",
       " 'without': 410,\n",
       " 'measuring': 411,\n",
       " 'capable': 412,\n",
       " 'some': 413,\n",
       " 'perform': 414,\n",
       " 'unknown': 415,\n",
       " 'operations': 416,\n",
       " 'evaluation': 417,\n",
       " 'deep': 418,\n",
       " 'communication': 419,\n",
       " 'surface': 420,\n",
       " 'visual': 421,\n",
       " 'recurrent': 422,\n",
       " 'air': 423,\n",
       " 'transform': 424,\n",
       " 'candidate': 425,\n",
       " 'environment': 426,\n",
       " 'm': 427,\n",
       " 'technique': 428,\n",
       " 'their': 429,\n",
       " 'utilizing': 430,\n",
       " 'motor': 431,\n",
       " 'low': 432,\n",
       " 'amount': 433,\n",
       " 'category': 434,\n",
       " 'states': 435,\n",
       " 'identification': 436,\n",
       " 'synapses': 437,\n",
       " 'query': 438,\n",
       " 'identified': 439,\n",
       " 'characters': 440,\n",
       " 'context': 441,\n",
       " 'probability': 442,\n",
       " 'electrical': 443,\n",
       " 'adapted': 444,\n",
       " 'forward': 445,\n",
       " 'predict': 446,\n",
       " 'changes': 447,\n",
       " 'display': 448,\n",
       " 'sum': 449,\n",
       " 's': 450,\n",
       " 'presented': 451,\n",
       " 'predicting': 452,\n",
       " 'activation': 453,\n",
       " 'potential': 454,\n",
       " 'pulse': 455,\n",
       " 'factors': 456,\n",
       " 'code': 457,\n",
       " 'applying': 458,\n",
       " 'automatic': 459,\n",
       " 'calculation': 460,\n",
       " 'inference': 461,\n",
       " 'knowledge': 462,\n",
       " 'levels': 463,\n",
       " 'produced': 464,\n",
       " 'among': 465,\n",
       " 'degree': 466,\n",
       " 'interconnected': 467,\n",
       " 'language': 468,\n",
       " 'lines': 469,\n",
       " 'normal': 470,\n",
       " 'pixels': 471,\n",
       " 'those': 472,\n",
       " 'accuracy': 473,\n",
       " 'estimate': 474,\n",
       " 'document': 475,\n",
       " 'obtaining': 476,\n",
       " 'x': 477,\n",
       " 'ratio': 478,\n",
       " 'containing': 479,\n",
       " 'times': 480,\n",
       " 'adjusted': 481,\n",
       " 'thereof': 482,\n",
       " 'media': 483,\n",
       " 'large': 484,\n",
       " 'detect': 485,\n",
       " 'arrangement': 486,\n",
       " 'pair': 487,\n",
       " 'spatial': 488,\n",
       " 'transmission': 489,\n",
       " 'relationship': 490,\n",
       " 'coupling': 491,\n",
       " 'estimation': 492,\n",
       " 'will': 493,\n",
       " 'along': 494,\n",
       " 'optimization': 495,\n",
       " 'cost': 496,\n",
       " 'compared': 497,\n",
       " 'original': 498,\n",
       " 'gate': 499,\n",
       " 'analyzing': 500,\n",
       " 'inputted': 501,\n",
       " 'frame': 502,\n",
       " 'selection': 503,\n",
       " 'interest': 504,\n",
       " 'mapping': 505,\n",
       " 't': 506,\n",
       " 'recognize': 507,\n",
       " 'possible': 508,\n",
       " 'relative': 509,\n",
       " 'respect': 510,\n",
       " 'activity': 511,\n",
       " 'extracting': 512,\n",
       " 'human': 513,\n",
       " 'problem': 514,\n",
       " 'allows': 515,\n",
       " 'final': 516,\n",
       " 'associative': 517,\n",
       " 'size': 518,\n",
       " 'selecting': 519,\n",
       " 'under': 520,\n",
       " 'behavior': 521,\n",
       " 'employed': 522,\n",
       " 'relates': 523,\n",
       " 'charge': 524,\n",
       " 'gas': 525,\n",
       " 'similar': 526,\n",
       " 'expert': 527,\n",
       " 'waveform': 528,\n",
       " 'frames': 529,\n",
       " 'utilized': 530,\n",
       " 'face': 531,\n",
       " 'estimating': 532,\n",
       " 'spectral': 533,\n",
       " 'terms': 534,\n",
       " 'locations': 535,\n",
       " 'supplied': 536,\n",
       " 'additional': 537,\n",
       " 'modeling': 538,\n",
       " 'manner': 539,\n",
       " 'indicating': 540,\n",
       " 'station': 541,\n",
       " 'external': 542,\n",
       " 'complex': 543,\n",
       " 'produces': 544,\n",
       " 'strength': 545,\n",
       " 'computed': 546,\n",
       " 'constructed': 547,\n",
       " 'word': 548,\n",
       " 'classes': 549,\n",
       " 'determination': 550,\n",
       " 'transformed': 551,\n",
       " 'software': 552,\n",
       " 'addition': 553,\n",
       " 'improved': 554,\n",
       " 'outputting': 555,\n",
       " 'scale': 556,\n",
       " 'performs': 557,\n",
       " 'traffic': 558,\n",
       " 'arranged': 559,\n",
       " 'programs': 560,\n",
       " 'comparing': 561,\n",
       " 'correlation': 562,\n",
       " 'fault': 563,\n",
       " 'modified': 564,\n",
       " 'clusters': 565,\n",
       " 'matching': 566,\n",
       " 'represents': 567,\n",
       " 'design': 568,\n",
       " 'material': 569,\n",
       " 'voice': 570,\n",
       " 'driving': 571,\n",
       " 'nn': 572,\n",
       " 'b': 573,\n",
       " 'appropriate': 574,\n",
       " 'learn': 575,\n",
       " 'encoded': 576,\n",
       " 'body': 577,\n",
       " 'resulting': 578,\n",
       " 'events': 579,\n",
       " 'recognizing': 580,\n",
       " 'template': 581,\n",
       " 'brain': 582,\n",
       " 'classifying': 583,\n",
       " 'previously': 584,\n",
       " 'reduced': 585,\n",
       " 'automated': 586,\n",
       " 'score': 587,\n",
       " 'utilizes': 588,\n",
       " 'optimized': 589,\n",
       " 'loop': 590,\n",
       " 'processors': 591,\n",
       " 'optimum': 592,\n",
       " 'fuel': 593,\n",
       " 'algorithms': 594,\n",
       " 'represented': 595,\n",
       " 'attributes': 596,\n",
       " 'statistical': 597,\n",
       " 'action': 598,\n",
       " 'but': 599,\n",
       " '2': 600,\n",
       " 'normalized': 601,\n",
       " 'comparison': 602,\n",
       " 'relating': 603,\n",
       " 'window': 604,\n",
       " 'producing': 605,\n",
       " 'groups': 606,\n",
       " 'segment': 607,\n",
       " 'like': 608,\n",
       " 'preferred': 609,\n",
       " 'monitored': 610,\n",
       " 'drive': 611,\n",
       " 'hardware': 612,\n",
       " 'differential': 613,\n",
       " 'd': 614,\n",
       " 'most': 615,\n",
       " 'implementation': 616,\n",
       " 'predictive': 617,\n",
       " 'inputting': 618,\n",
       " 'applications': 619,\n",
       " 'respectively': 620,\n",
       " 'forming': 621,\n",
       " 'required': 622,\n",
       " 'global': 623,\n",
       " 'responsive': 624,\n",
       " 'electric': 625,\n",
       " 'classified': 626,\n",
       " 'properties': 627,\n",
       " 'quantity': 628,\n",
       " 'recognized': 629,\n",
       " 'case': 630,\n",
       " 'read': 631,\n",
       " 'configuration': 632,\n",
       " 'transformation': 633,\n",
       " 'presence': 634,\n",
       " 'shape': 635,\n",
       " 'minimum': 636,\n",
       " 'collected': 637,\n",
       " 'spectrum': 638,\n",
       " 'represent': 639,\n",
       " 'measure': 640,\n",
       " 'subset': 641,\n",
       " 'fixed': 642,\n",
       " 'direction': 643,\n",
       " 'electrode': 644,\n",
       " 'sensing': 645,\n",
       " 'dependent': 646,\n",
       " 'maximum': 647,\n",
       " 'movement': 648,\n",
       " 'path': 649,\n",
       " 'herein': 650,\n",
       " 'feed': 651,\n",
       " 'several': 652,\n",
       " 'operates': 653,\n",
       " 'person': 654,\n",
       " 'located': 655,\n",
       " 'prior': 656,\n",
       " 'until': 657,\n",
       " 'future': 658,\n",
       " 'distributed': 659,\n",
       " 'tissue': 660,\n",
       " 'standard': 661,\n",
       " 'following': 662,\n",
       " 'conventional': 663,\n",
       " 'stream': 664,\n",
       " 'mobile': 665,\n",
       " 'transfer': 666,\n",
       " 'physiological': 667,\n",
       " 'mechanism': 668,\n",
       " 'fed': 669,\n",
       " 'together': 670,\n",
       " 'floating': 671,\n",
       " 'assigned': 672,\n",
       " 'pairs': 673,\n",
       " 'phoneme': 674,\n",
       " 'computation': 675,\n",
       " 'types': 676,\n",
       " 'access': 677,\n",
       " 'index': 678,\n",
       " 'select': 679,\n",
       " 'coefficient': 680,\n",
       " 'dnn': 681,\n",
       " 'spike': 682,\n",
       " 'analyzed': 683,\n",
       " 'generator': 684,\n",
       " 'delay': 685,\n",
       " 'genetic': 686,\n",
       " 'corresponds': 687,\n",
       " 'organizing': 688,\n",
       " 'general': 689,\n",
       " 'common': 690,\n",
       " 'next': 691,\n",
       " 'average': 692,\n",
       " 'combustion': 693,\n",
       " 'available': 694,\n",
       " 'discrete': 695,\n",
       " 'included': 696,\n",
       " 'cluster': 697,\n",
       " 'lower': 698,\n",
       " 'density': 699,\n",
       " 'whose': 700,\n",
       " 'signature': 701,\n",
       " 'speaker': 702,\n",
       " 'directly': 703,\n",
       " 'k': 704,\n",
       " 'column': 705,\n",
       " 'wavelet': 706,\n",
       " 'c': 707,\n",
       " 'match': 708,\n",
       " 'background': 709,\n",
       " 'core': 710,\n",
       " 'subsequent': 711,\n",
       " 'amplifier': 712,\n",
       " 'contains': 713,\n",
       " 'medium': 714,\n",
       " 'approach': 715,\n",
       " 'period': 716,\n",
       " 'center': 717,\n",
       " 'load': 718,\n",
       " 'collection': 719,\n",
       " 'formation': 720,\n",
       " 'calculates': 721,\n",
       " 'create': 722,\n",
       " 'packet': 723,\n",
       " 'converting': 724,\n",
       " 'y': 725,\n",
       " 'production': 726,\n",
       " 'angle': 727,\n",
       " 'previous': 728,\n",
       " 'dimension': 729,\n",
       " 'improve': 730,\n",
       " 'net': 731,\n",
       " 'there': 732,\n",
       " 'converted': 733,\n",
       " 'necessary': 734,\n",
       " 'semantic': 735,\n",
       " 'relationships': 736,\n",
       " 'analyzer': 737,\n",
       " 'temporal': 738,\n",
       " 'service': 739,\n",
       " 'semiconductor': 740,\n",
       " 'medical': 741,\n",
       " 'j': 742,\n",
       " 'independent': 743,\n",
       " 'table': 744,\n",
       " 'likelihood': 745,\n",
       " 'bone': 746,\n",
       " 'vibration': 747,\n",
       " 'higher': 748,\n",
       " 'sampling': 749,\n",
       " 'operational': 750,\n",
       " 'radiation': 751,\n",
       " 'resolution': 752,\n",
       " 'classify': 753,\n",
       " 'generation': 754,\n",
       " 'term': 755,\n",
       " 'stores': 756,\n",
       " 'products': 757,\n",
       " 'volume': 758,\n",
       " 'correspond': 759,\n",
       " 'bus': 760,\n",
       " 'technology': 761,\n",
       " 'intelligent': 762,\n",
       " 'camera': 763,\n",
       " 'conversion': 764,\n",
       " 'fourier': 765,\n",
       " 'objective': 766,\n",
       " 'key': 767,\n",
       " 'multiplier': 768,\n",
       " 'evaluating': 769,\n",
       " 'estimates': 770,\n",
       " 'useful': 771,\n",
       " 'partial': 772,\n",
       " 'reduce': 773,\n",
       " 'post': 774,\n",
       " 'once': 775,\n",
       " 'cycle': 776,\n",
       " 'controls': 777,\n",
       " 'representations': 778,\n",
       " 'breathing': 779,\n",
       " 'diagnostic': 780,\n",
       " 'electrodes': 781,\n",
       " 'communications': 782,\n",
       " 'created': 783,\n",
       " 'efficiency': 784,\n",
       " 'effect': 785,\n",
       " 'imaging': 786,\n",
       " 'cnn': 787,\n",
       " 'fluid': 788,\n",
       " 'positions': 789,\n",
       " 'updated': 790,\n",
       " 'transmitted': 791,\n",
       " 'heart': 792,\n",
       " 'setting': 793,\n",
       " 'measures': 794,\n",
       " 'row': 795,\n",
       " 'confidence': 796,\n",
       " 'monitor': 797,\n",
       " 'achieved': 798,\n",
       " 'filtering': 799,\n",
       " 'off': 800,\n",
       " 'historical': 801,\n",
       " 'making': 802,\n",
       " 'suitable': 803,\n",
       " 'categories': 804,\n",
       " 'scores': 805,\n",
       " 'operate': 806,\n",
       " 'solution': 807,\n",
       " 'adjusting': 808,\n",
       " 'w': 809,\n",
       " 'plural': 810,\n",
       " 'analyzes': 811,\n",
       " 'smaller': 812,\n",
       " 'interconnection': 813,\n",
       " 'tool': 814,\n",
       " 'moving': 815,\n",
       " 'total': 816,\n",
       " 'examples': 817,\n",
       " 'accurate': 818,\n",
       " 'active': 819,\n",
       " 'highly': 820,\n",
       " 'characterized': 821,\n",
       " 'health': 822,\n",
       " 'main': 823,\n",
       " 'operator': 824,\n",
       " 'thermal': 825,\n",
       " 'problems': 826,\n",
       " 'certain': 827,\n",
       " 'battery': 828,\n",
       " 'errors': 829,\n",
       " 'correct': 830,\n",
       " 'run': 831,\n",
       " 'additionally': 832,\n",
       " 'abnormal': 833,\n",
       " 'efficient': 834,\n",
       " 'comprise': 835,\n",
       " 'etc': 836,\n",
       " 'documents': 837,\n",
       " 'supervised': 838,\n",
       " 'no': 839,\n",
       " 'modules': 840,\n",
       " 'implementing': 841,\n",
       " 'membership': 842,\n",
       " 'continuous': 843,\n",
       " 'store': 844,\n",
       " 'spiking': 845,\n",
       " 'cardiac': 846,\n",
       " 'structures': 847,\n",
       " 'similarity': 848,\n",
       " 'hybrid': 849,\n",
       " 'beam': 850,\n",
       " 'primary': 851,\n",
       " 'end': 852,\n",
       " 'particularly': 853,\n",
       " 'resistance': 854,\n",
       " 'motion': 855,\n",
       " 'variety': 856,\n",
       " 'chip': 857,\n",
       " 'aspect': 858,\n",
       " 'converter': 859,\n",
       " 'sound': 860,\n",
       " 'indicates': 861,\n",
       " 'portions': 862,\n",
       " 'basic': 863,\n",
       " 'calculate': 864,\n",
       " 'testing': 865,\n",
       " 'length': 866,\n",
       " 'water': 867,\n",
       " 'feedforward': 868,\n",
       " 'magnetic': 869,\n",
       " 'accurately': 870,\n",
       " 'employs': 871,\n",
       " 'depending': 872,\n",
       " 'unsupervised': 873,\n",
       " 'terminal': 874,\n",
       " 'computational': 875,\n",
       " 'small': 876,\n",
       " 'neuronal': 877,\n",
       " 'joint': 878,\n",
       " 'zero': 879,\n",
       " 'onto': 880,\n",
       " 'positive': 881,\n",
       " 'receiver': 882,\n",
       " 'random': 883,\n",
       " 'factor': 884,\n",
       " '3': 885,\n",
       " 'sequences': 886,\n",
       " 'p': 887,\n",
       " 'address': 888,\n",
       " 'infrared': 889,\n",
       " 'generally': 890,\n",
       " 'scheme': 891,\n",
       " 'substantially': 892,\n",
       " 'sensitive': 893,\n",
       " 'support': 894,\n",
       " 'relevant': 895,\n",
       " 'tensor': 896,\n",
       " '0': 897,\n",
       " 'employing': 898,\n",
       " 'simultaneously': 899,\n",
       " 'updating': 900,\n",
       " 'adjustment': 901,\n",
       " 'before': 902,\n",
       " 'gradient': 903,\n",
       " 'inverse': 904,\n",
       " 'capability': 905,\n",
       " 'carried': 906,\n",
       " 'programmable': 907,\n",
       " 'axis': 908,\n",
       " 'molecular': 909,\n",
       " 'regression': 910,\n",
       " 'many': 911,\n",
       " 'depth': 912,\n",
       " 'intelligence': 913,\n",
       " 'tree': 914,\n",
       " 'areas': 915,\n",
       " 'directed': 916,\n",
       " 'creating': 917,\n",
       " 'actions': 918,\n",
       " 'utterance': 919,\n",
       " 'overall': 920,\n",
       " 'adjust': 921,\n",
       " 'risk': 922,\n",
       " 'existing': 923,\n",
       " 'switch': 924,\n",
       " 'quantities': 925,\n",
       " 'programmed': 926,\n",
       " 'digitized': 927,\n",
       " 'selects': 928,\n",
       " 'seismic': 929,\n",
       " 'transistor': 930,\n",
       " 'way': 931,\n",
       " 'history': 932,\n",
       " 'transmitting': 933,\n",
       " 'paths': 934,\n",
       " 'concentration': 935,\n",
       " 'functional': 936,\n",
       " 'sup': 937,\n",
       " 'specifically': 938,\n",
       " 'probabilities': 939,\n",
       " 'taken': 940,\n",
       " 'displayed': 941,\n",
       " 'sequentially': 942,\n",
       " 'selectively': 943,\n",
       " 'near': 944,\n",
       " 'tasks': 945,\n",
       " 'extract': 946,\n",
       " 'operable': 947,\n",
       " 'highest': 948,\n",
       " 'tracking': 949,\n",
       " 'changing': 950,\n",
       " 'detects': 951,\n",
       " 'mathematical': 952,\n",
       " 'maps': 953,\n",
       " 'status': 954,\n",
       " 'contained': 955,\n",
       " 'segmented': 956,\n",
       " 'rnn': 957,\n",
       " 'axon': 958,\n",
       " 'novel': 959,\n",
       " 'dynamically': 960,\n",
       " 'cause': 961,\n",
       " 'segmentation': 962,\n",
       " 'changed': 963,\n",
       " 'band': 964,\n",
       " 'manufacturing': 965,\n",
       " 'was': 966,\n",
       " 'sources': 967,\n",
       " 'side': 968,\n",
       " 'switching': 969,\n",
       " 'simple': 970,\n",
       " 'diagnosis': 971,\n",
       " 'less': 972,\n",
       " 'equal': 973,\n",
       " 'blocks': 974,\n",
       " 'item': 975,\n",
       " 'drilling': 976,\n",
       " 'evaluated': 977,\n",
       " 'procedure': 978,\n",
       " 'differences': 979,\n",
       " 'wireless': 980,\n",
       " \"user's\": 981,\n",
       " 'property': 982,\n",
       " 'best': 983,\n",
       " 'predictions': 984,\n",
       " 'circuitry': 985,\n",
       " 'significant': 986,\n",
       " 'above': 987,\n",
       " 'teaching': 988,\n",
       " 'thereto': 989,\n",
       " 'intensity': 990,\n",
       " 'layered': 991,\n",
       " 'long': 992,\n",
       " 'programming': 993,\n",
       " 'users': 994,\n",
       " 'list': 995,\n",
       " 'reduction': 996,\n",
       " 'wing': 997,\n",
       " 'amplitude': 998,\n",
       " 'quantization': 999,\n",
       " 'combining': 1000,\n",
       " ...}"
      ]
     },
     "execution_count": 34,
     "metadata": {},
     "output_type": "execute_result"
    }
   ],
   "source": [
    "word_idx"
   ]
  },
  {
   "cell_type": "code",
   "execution_count": 37,
   "metadata": {},
   "outputs": [
    {
     "data": {
      "text/plain": [
       "293001"
      ]
     },
     "execution_count": 37,
     "metadata": {},
     "output_type": "execute_result"
    }
   ],
   "source": [
    "len(labels)"
   ]
  },
  {
   "cell_type": "code",
   "execution_count": 52,
   "metadata": {},
   "outputs": [
    {
     "data": {
      "text/plain": [
       "[(0, 1370), (1, 5), (2, 2), (3, 879), (4, 353)]"
      ]
     },
     "execution_count": 52,
     "metadata": {},
     "output_type": "execute_result"
    }
   ],
   "source": [
    "list(enumerate(labels[:5]))"
   ]
  },
  {
   "cell_type": "code",
   "execution_count": 45,
   "metadata": {},
   "outputs": [
    {
     "name": "stdout",
     "output_type": "stream",
     "text": [
      "50 50\n"
     ]
    }
   ],
   "source": [
    "print(len(features[0])) # training_length"
   ]
  },
  {
   "cell_type": "markdown",
   "metadata": {},
   "source": [
    "Let's see how the features and labels look like"
   ]
  },
  {
   "cell_type": "code",
   "execution_count": 114,
   "metadata": {},
   "outputs": [],
   "source": [
    "def find_label(index):\n",
    "    \"\"\"Find label corresponding to features for index in training sequences\"\"\"\n",
    "    feats = ' '.join(idx_word[i] for i in features[index])\n",
    "    answer = idx_word[labels[index]]\n",
    "    print('Features:', feats)\n",
    "    print('Answer:', answer)"
   ]
  },
  {
   "cell_type": "code",
   "execution_count": 116,
   "metadata": {},
   "outputs": [
    {
     "name": "stdout",
     "output_type": "stream",
     "text": [
      "Features: enhances stability in a neural network system that when used as a track while scan system assigns sensor plots to predicted track positions in a plot track association situation the barometer neuron functions as a bench mark or reference system node that equates a superimposed plot and track to a\n",
      "Answer: zero\n"
     ]
    }
   ],
   "source": [
    "n = 3\n",
    "find_label(n)"
   ]
  },
  {
   "cell_type": "code",
   "execution_count": 122,
   "metadata": {},
   "outputs": [
    {
     "data": {
      "text/plain": [
       "'\" A \"\"Barometer\"\" Neuron enhances stability in a Neural Network System that, when used as a track-while-scan system, assigns sensor plots to predicted track positions in a plot/track association situation. The \"\"Barometer\"\" Neuron functions as a bench-mark or reference system node that equates a superimposed plot and track to a zero distance as a \"\"perfect\"\" pairing of plot and track which has a measured/desired level of inhibition. The \"\"Barometer\"\" Neuron responds to the System inputs, compares these inputs against the level of inhibition of the \"\"perfect\"\" pair, and generates a supplied excitation or inhibition output signal to the System which adjusts the System to a desired value at or near 1.0; this the reference level of inhibition of the \"\"perfect\"\" pair. \"'"
      ]
     },
     "execution_count": 122,
     "metadata": {},
     "output_type": "execute_result"
    }
   ],
   "source": [
    "original_abstracts[0]"
   ]
  },
  {
   "cell_type": "code",
   "execution_count": 123,
   "metadata": {},
   "outputs": [
    {
     "name": "stdout",
     "output_type": "stream",
     "text": [
      "Features: that when used as a track while scan system assigns sensor plots to predicted track positions in a plot track association situation the barometer neuron functions as a bench mark or reference system node that equates a superimposed plot and track to a zero distance as a perfect pairing of\n",
      "Answer: plot\n"
     ]
    }
   ],
   "source": [
    "find_label(10)"
   ]
  },
  {
   "cell_type": "markdown",
   "metadata": {},
   "source": [
    "**Deciding which pre-processing steps to take in general is the most important aspect of an machine learning project.**"
   ]
  },
  {
   "cell_type": "markdown",
   "metadata": {},
   "source": [
    "Find out the most common word used in the training set."
   ]
  },
  {
   "cell_type": "markdown",
   "metadata": {},
   "source": [
    "Sorted is a nice function which takes an iterable (list, dict, etc.) and sort by a defined function: key."
   ]
  },
  {
   "cell_type": "code",
   "execution_count": 146,
   "metadata": {},
   "outputs": [
    {
     "data": {
      "text/plain": [
       "[('the', 36614),\n",
       " ('a', 24904),\n",
       " ('of', 20240),\n",
       " ('and', 12968),\n",
       " ('to', 12150),\n",
       " ('network', 7829),\n",
       " ('neural', 7450),\n",
       " ('is', 7214),\n",
       " ('in', 7059),\n",
       " ('for', 6909)]"
      ]
     },
     "execution_count": 146,
     "metadata": {},
     "output_type": "execute_result"
    }
   ],
   "source": [
    "sorted(word_counts.items(), key=lambda x:x[1], reverse=True)[:10]"
   ]
  },
  {
   "cell_type": "markdown",
   "metadata": {},
   "source": [
    "### 3. 2 create train/validate/test sets with sequences"
   ]
  },
  {
   "cell_type": "markdown",
   "metadata": {},
   "source": [
    "Now we need to take the features and labels and conver them to training and validation data. The following functions does this by splitting the features and labels by a specified train fraction, after random shuffling because the features were made in sequential order.\n",
    "\n",
    "All the inputs are conveted to numpy arrays which are the correct inputs to a keras network. Also, we do want to be careful about using up too much memory. One hot encoding the labels creates massive numpy arrays so I took care to delete the un-used objects from the workspace."
   ]
  },
  {
   "cell_type": "code",
   "execution_count": 21,
   "metadata": {},
   "outputs": [],
   "source": [
    "from sklearn.utils import shuffle\n",
    "RANDOM_STATE = 50"
   ]
  },
  {
   "cell_type": "code",
   "execution_count": 22,
   "metadata": {},
   "outputs": [],
   "source": [
    "def create_train_valid(features,\n",
    "                       labels,\n",
    "                       num_words,\n",
    "                       train_fraction=0.7):\n",
    "    \"\"\"Create training and validation features and labels.\"\"\"\n",
    "    \n",
    "    # Randomly shuffle features and labels\n",
    "    features, labels = shuffle(features, labels, random_state=RANDOM_STATE)\n",
    "\n",
    "    # Decide on number of samples for training\n",
    "    train_end = int(train_fraction * len(labels))\n",
    "\n",
    "    train_features = np.array(features[:train_end])\n",
    "    valid_features = np.array(features[train_end:])\n",
    "\n",
    "    train_labels = labels[:train_end]\n",
    "    valid_labels = labels[train_end:]\n",
    "\n",
    "    # Convert to arrays\n",
    "    X_train, X_valid = np.array(train_features), np.array(valid_features)\n",
    "\n",
    "    # Using int8 for memory savings\n",
    "    y_train = np.zeros((len(train_labels), num_words), dtype=np.int8)\n",
    "    y_valid = np.zeros((len(valid_labels), num_words), dtype=np.int8)\n",
    "\n",
    "    # One hot encoding of labels\n",
    "    for example_index, word_index in enumerate(train_labels):\n",
    "        y_train[example_index, word_index] = 1\n",
    "\n",
    "    for example_index, word_index in enumerate(valid_labels):\n",
    "        y_valid[example_index, word_index] = 1\n",
    "\n",
    "    # Memory management\n",
    "    import gc   \n",
    "    gc.enable()\n",
    "    del features, labels, train_features, valid_features, train_labels, valid_labels\n",
    "    gc.collect() # garbage collection destoyred unneeded objects. https://rushter.com/blog/python-garbage-collector/ The main advantage of such approach is that the objects can be immediately destroyed after they are no longer needed.\n",
    "\n",
    "    return X_train, X_valid, y_train, y_valid"
   ]
  },
  {
   "cell_type": "code",
   "execution_count": 23,
   "metadata": {},
   "outputs": [],
   "source": [
    "X_train, X_valid, y_train, y_valid = create_train_valid(features, labels, num_words)"
   ]
  },
  {
   "cell_type": "code",
   "execution_count": 149,
   "metadata": {},
   "outputs": [],
   "source": [
    "# create a dict for training / validation set\n",
    "training_dict = {'X_train': X_train, 'X_valid': X_valid, 'y_train': y_train, 'y_valid': y_valid}"
   ]
  },
  {
   "cell_type": "code",
   "execution_count": 151,
   "metadata": {},
   "outputs": [
    {
     "data": {
      "text/plain": [
       "(205100, 50)"
      ]
     },
     "execution_count": 151,
     "metadata": {},
     "output_type": "execute_result"
    },
    {
     "data": {
      "text/plain": [
       "(87901, 50)"
      ]
     },
     "execution_count": 151,
     "metadata": {},
     "output_type": "execute_result"
    },
    {
     "data": {
      "text/plain": [
       "(205100, 11695)"
      ]
     },
     "execution_count": 151,
     "metadata": {},
     "output_type": "execute_result"
    },
    {
     "data": {
      "text/plain": [
       "(87901, 11695)"
      ]
     },
     "execution_count": 151,
     "metadata": {},
     "output_type": "execute_result"
    }
   ],
   "source": [
    "X_train.shape\n",
    "X_valid.shape\n",
    "y_train.shape\n",
    "y_valid.shape"
   ]
  },
  {
   "cell_type": "code",
   "execution_count": 153,
   "metadata": {},
   "outputs": [
    {
     "data": {
      "text/plain": [
       "2.398644612"
      ]
     },
     "execution_count": 153,
     "metadata": {},
     "output_type": "execute_result"
    }
   ],
   "source": [
    "import sys\n",
    "sys.getsizeof(y_train)/1e9"
   ]
  },
  {
   "cell_type": "code",
   "execution_count": 161,
   "metadata": {},
   "outputs": [
    {
     "name": "stdout",
     "output_type": "stream",
     "text": [
      "Object: __ Size: 2.398644612 GB.\n",
      "Object: y_train Size: 2.398644612 GB.\n",
      "Object: y_valid Size: 1.028002307 GB.\n",
      "Object: _159 Size: 2.398644612 GB.\n"
     ]
    }
   ],
   "source": [
    "def check_sizes(gb_min=1):\n",
    "    for x in globals():\n",
    "        size = sys.getsizeof(eval(x)) / 1e9\n",
    "        if size > gb_min:\n",
    "            print(f'Object: {x} Size: {size} GB.')\n",
    "            \n",
    "check_sizes(gb_min=1)"
   ]
  },
  {
   "cell_type": "markdown",
   "metadata": {},
   "source": [
    "Let's see how the training dict looks like."
   ]
  },
  {
   "cell_type": "code",
   "execution_count": 111,
   "metadata": {},
   "outputs": [
    {
     "data": {
      "text/plain": [
       "'device or bipolar junction transistor and the balancing scheme are suitable for microfabrication and provides noise rejection enhancement the interconnected integral feedback of the autonulling dc bridge enables both a neural network for pre processing sensor input in a spatial domain as well as general analog computation that mimics a'"
      ]
     },
     "execution_count": 111,
     "metadata": {},
     "output_type": "execute_result"
    },
    {
     "data": {
      "text/plain": [
       "'first'"
      ]
     },
     "execution_count": 111,
     "metadata": {},
     "output_type": "execute_result"
    }
   ],
   "source": [
    "id_sequence = 10\n",
    "' '.join(idx_word[i] for i in training_dict['X_train'][id_sequence])\n",
    "\n",
    "idx_word[np.argmax(training_dict['y_train'][10])]"
   ]
  },
  {
   "cell_type": "markdown",
   "metadata": {},
   "source": [
    "## Inference "
   ]
  },
  {
   "cell_type": "code",
   "execution_count": 28,
   "metadata": {},
   "outputs": [
    {
     "name": "stdout",
     "output_type": "stream",
     "text": [
      "Features: user to provide samples . A recognition operation is performed on the user's handwritten input , and the user is not satisfied with the recognition result . The user selects an option to train the neural network on one or more characters to improve the recognition results . The user\n",
      "\n",
      "Label: is\n",
      "\n",
      "Features: and includes a number of amplifiers corresponding to the N bit output sum and a carry generation from the result of the adding process an augend input-synapse group , an addend input-synapse group , a carry input-synapse group , a first bias-synapse group a second bias-synapse group an output feedback-synapse\n",
      "\n",
      "Label: group\n",
      "\n",
      "Features: a set of physical parameters that fully define the smaller extraction problem . Next , models are created using machine learning techniques for all of the smaller simpler extraction problems . The machine learning is performed by first creating training data sets composed of the identified parameters from typical examples\n",
      "\n",
      "Label: of\n",
      "\n",
      "Features: nodes , representing selected feature information , may be activated . The node interactions may be calculated to detect the activation of a second set of nodes , the second set of nodes representing media characteristic information . Generally , a node is activated when an activation value of the\n",
      "\n",
      "Label: node\n",
      "\n",
      "Features: multiple dimension vectors representative of the speech characteristics of that segment . These vectors are iteratively presented to a neural network to train/adapt that neural network to consistently distinguish and recognize these vectors and assign an appropriate phoneme code to each vector . Simultaneous display of the digitized speech ,\n",
      "\n",
      "Label: segments\n",
      "\n",
      "Features: injection-molded article is described . The method makes use of a hybrid model which includes at least one neural network and at least one rigorous model . In order to forecast (or predict) properties relating to the manufacture of a plastic molded part , a hybrid model is used which\n",
      "\n",
      "Label: includes:\n",
      "\n"
     ]
    }
   ],
   "source": [
    "for i, sequence in enumerate(training_dict['X_train'][:6]):\n",
    "    text = []\n",
    "    for idx in sequence:\n",
    "        text.append(idx_word[idx])\n",
    "        \n",
    "    print('Features: ' + ' '.join(text) + '\\n')\n",
    "    print('Label: ' + idx_word[np.argmax(training_dict['y_train'][i])] + '\\n')"
   ]
  },
  {
   "cell_type": "markdown",
   "metadata": {},
   "source": [
    "## Make RNN \n",
    "- Embedding dimension = 100\n",
    "- 64 LSTM cells in one layer\n",
    "- Dropout and recurrent dropout for regularization\n",
    "- Fully connected layer with 64 units on top of LSTM\n",
    "- 'relu' activation\n",
    "- Drop out for regularization\n",
    "- Output layer produces prediction for each word\n",
    "- 'softmax' activation\n",
    "- Adam optimizer with defaults\n",
    "- Categorical cross entropy loss\n",
    "- Monitor accuracy"
   ]
  },
  {
   "cell_type": "code",
   "execution_count": 24,
   "metadata": {},
   "outputs": [],
   "source": [
    "from keras.models import Sequential, load_model\n",
    "from keras.layers import LSTM, Dense, Dropout, Embedding, Masking, Bidirectional\n",
    "from keras.optimizers import Adam\n",
    "\n",
    "from keras.utils import plot_model"
   ]
  },
  {
   "cell_type": "code",
   "execution_count": 25,
   "metadata": {},
   "outputs": [],
   "source": [
    "model = Sequential()"
   ]
  },
  {
   "cell_type": "code",
   "execution_count": 26,
   "metadata": {},
   "outputs": [],
   "source": [
    "# Embedding layer\n",
    "model.add(\n",
    "    Embedding(\n",
    "        input_dim=len(word_idx) + 1,\n",
    "        output_dim=100,\n",
    "        weights=None,\n",
    "        trainable=True\n",
    "    )\n",
    ")"
   ]
  },
  {
   "cell_type": "code",
   "execution_count": 27,
   "metadata": {},
   "outputs": [],
   "source": [
    "# Recurrent layer\n",
    "model.add(\n",
    "    LSTM(\n",
    "    64, return_sequences=False, dropout=0.1, recurrent_dropout=0.1\n",
    "    )\n",
    ")"
   ]
  },
  {
   "cell_type": "code",
   "execution_count": 28,
   "metadata": {},
   "outputs": [],
   "source": [
    "# Fully Connected layer\n",
    "model.add(\n",
    "    Dense(64, activation='relu')\n",
    ")"
   ]
  },
  {
   "cell_type": "code",
   "execution_count": 35,
   "metadata": {},
   "outputs": [],
   "source": [
    "# Dropout for regularization\n",
    "model.add(Dropout(0.5))"
   ]
  },
  {
   "cell_type": "code",
   "execution_count": 36,
   "metadata": {},
   "outputs": [],
   "source": [
    "# Output layer\n",
    "model.add(Dense(len(word_idx) + 1, activation='softmax'))"
   ]
  },
  {
   "cell_type": "code",
   "execution_count": 37,
   "metadata": {},
   "outputs": [
    {
     "name": "stdout",
     "output_type": "stream",
     "text": [
      "_________________________________________________________________\n",
      "Layer (type)                 Output Shape              Param #   \n",
      "=================================================================\n",
      "embedding_1 (Embedding)      (None, None, 100)         1619200   \n",
      "_________________________________________________________________\n",
      "lstm_1 (LSTM)                (None, 64)                42240     \n",
      "_________________________________________________________________\n",
      "dense_1 (Dense)              (None, 64)                4160      \n",
      "_________________________________________________________________\n",
      "dropout_1 (Dropout)          (None, 64)                0         \n",
      "_________________________________________________________________\n",
      "dense_2 (Dense)              (None, 16192)             1052480   \n",
      "=================================================================\n",
      "Total params: 2,718,080\n",
      "Trainable params: 2,718,080\n",
      "Non-trainable params: 0\n",
      "_________________________________________________________________\n"
     ]
    }
   ],
   "source": [
    "# Compile the model\n",
    "model.compile(\n",
    "    optimizer='adam', loss='categorical_crossentropy', metrics=['accuracy']\n",
    ")\n",
    "\n",
    "model.summary()"
   ]
  },
  {
   "cell_type": "markdown",
   "metadata": {},
   "source": [
    "https://towardsdatascience.com/deploying-a-keras-deep-learning-model-as-a-web-application-in-p-fc0f2354a7ff \n",
    "https://towardsdatascience.com/recurrent-neural-networks-by-example-in-python-ffd204f99470\n",
    "load word embeddings:https://gist.github.com/WillKoehrsen/93f2643f9596916b72888796cf2710e9#file-load_word_embeddings-py "
   ]
  },
  {
   "cell_type": "markdown",
   "metadata": {},
   "source": [
    "## Load in Pre-Trained Model"
   ]
  },
  {
   "cell_type": "code",
   "execution_count": 39,
   "metadata": {},
   "outputs": [],
   "source": [
    "from keras.models import load_model\n",
    "\n",
    "model = load_model('../models/train-embeddings-rnn.h5')"
   ]
  },
  {
   "cell_type": "code",
   "execution_count": 43,
   "metadata": {},
   "outputs": [
    {
     "data": {
      "text/plain": [
       "[<keras.layers.embeddings.Embedding at 0x122715048>,\n",
       " <keras.layers.recurrent.LSTM at 0x1128664e0>,\n",
       " <keras.layers.core.Dense at 0x112866208>,\n",
       " <keras.layers.core.Dropout at 0x112d2c438>,\n",
       " <keras.layers.core.Dense at 0x11284bef0>]"
      ]
     },
     "execution_count": 43,
     "metadata": {},
     "output_type": "execute_result"
    }
   ],
   "source": [
    "model.layers"
   ]
  },
  {
   "cell_type": "code",
   "execution_count": 46,
   "metadata": {},
   "outputs": [
    {
     "name": "stdout",
     "output_type": "stream",
     "text": [
      "Train on 222994 samples, validate on 95569 samples\n",
      "Epoch 1/5\n",
      "222994/222994 [==============================] - 290s 1ms/step - loss: 3.9993 - acc: 0.2685 - val_loss: 4.8002 - val_acc: 0.2587\n",
      "Epoch 2/5\n",
      "222994/222994 [==============================] - 290s 1ms/step - loss: 3.9010 - acc: 0.2782 - val_loss: 4.7813 - val_acc: 0.2626\n",
      "Epoch 3/5\n",
      "222994/222994 [==============================] - 289s 1ms/step - loss: 3.8536 - acc: 0.2832 - val_loss: 4.7653 - val_acc: 0.2644\n",
      "Epoch 4/5\n",
      "222994/222994 [==============================] - 274s 1ms/step - loss: 3.8195 - acc: 0.2874 - val_loss: 4.7604 - val_acc: 0.2657\n",
      "Epoch 5/5\n",
      "222994/222994 [==============================] - 273s 1ms/step - loss: 3.7951 - acc: 0.2889 - val_loss: 4.7596 - val_acc: 0.2666\n"
     ]
    },
    {
     "data": {
      "text/plain": [
       "<keras.callbacks.History at 0x1241efcf8>"
      ]
     },
     "execution_count": 46,
     "metadata": {},
     "output_type": "execute_result"
    }
   ],
   "source": [
    "model.fit(training_dict['X_train'], training_dict['y_train'], epochs=5, batch_size=2048,\n",
    "         validation_data = (training_dict['X_valid'], training_dict['y_valid']),\n",
    "          verbose=1\n",
    "         )"
   ]
  },
  {
   "cell_type": "code",
   "execution_count": 47,
   "metadata": {},
   "outputs": [
    {
     "name": "stdout",
     "output_type": "stream",
     "text": [
      "222994/222994 [==============================] - 86s 386us/step\n"
     ]
    },
    {
     "data": {
      "text/plain": [
       "[3.2911469715245034, 0.3365561406180473]"
      ]
     },
     "execution_count": 47,
     "metadata": {},
     "output_type": "execute_result"
    }
   ],
   "source": [
    "model.evaluate(training_dict['X_train'], training_dict['y_train'], batch_size=2048)"
   ]
  },
  {
   "cell_type": "markdown",
   "metadata": {},
   "source": [
    "## Generate output by starting it off with a seed consequence"
   ]
  },
  {
   "cell_type": "code",
   "execution_count": 136,
   "metadata": {},
   "outputs": [],
   "source": [
    "# Choose a random sequence\n",
    "import random\n",
    "seq = random.choice(sequences)"
   ]
  },
  {
   "cell_type": "code",
   "execution_count": 137,
   "metadata": {},
   "outputs": [],
   "source": [
    "# Choose a random starting point\n",
    "seed_length = 50\n",
    "seed_idx = random.randint(0, len(seq) - seed_length - 10)\n",
    "# Ending index for seed\n",
    "end_idx = seed_idx + seed_length"
   ]
  },
  {
   "cell_type": "code",
   "execution_count": 138,
   "metadata": {},
   "outputs": [],
   "source": [
    "# Extract the seed sequence\n",
    "seed = seq[seed_idx:end_idx]\n",
    "origina_sequence = [idx_word[i] for i in seed]\n",
    "generated = seed[:] + ['#']"
   ]
  },
  {
   "cell_type": "code",
   "execution_count": 139,
   "metadata": {},
   "outputs": [],
   "source": [
    "# Actual entire sequence\n",
    "new_words = 30\n",
    "actual = generated[:] + seq[end_idx:end_idx + new_words]"
   ]
  },
  {
   "cell_type": "code",
   "execution_count": 159,
   "metadata": {},
   "outputs": [
    {
     "name": "stderr",
     "output_type": "stream",
     "text": [
      "/Users/szhang/anaconda/lib/python3.6/site-packages/ipykernel_launcher.py:6: RuntimeWarning: divide by zero encountered in log\n",
      "  \n"
     ]
    }
   ],
   "source": [
    "# Seq to seq, keep adding new words. \n",
    "# The diversity controls the amount of stochasticity in the predictions: the next word predicted is selected based on the probabilities of the predictions.\n",
    "for i in range(new_words):\n",
    "    \n",
    "    # Make a prediction from the seed\n",
    "    preds = model.predict(np.array(seed).reshape(1, -1))[0].astype(np.float64)\n",
    "    exp_preds = np.exp(np.log(preds) / diversity)\n",
    "    \n",
    "    # Softmax \n",
    "    preds = exp_preds / sum(exp_preds)\n",
    "    \n",
    "    probas = np.random.multinomial(1, preds, 1)[0]\n",
    "    \n",
    "    next_idx = np.argmax(probas)\n",
    "    \n",
    "    seed += [next_idx]\n",
    "    generated.append(next_idx)"
   ]
  },
  {
   "cell_type": "code",
   "execution_count": 161,
   "metadata": {},
   "outputs": [],
   "source": [
    "# generated list\n",
    "gen_list = []\n",
    "n = []\n",
    "\n",
    "for i in generated:\n",
    "    n.append(idx_word.get(i, '< --- >'))\n",
    "\n",
    "gen_list.append(n)"
   ]
  },
  {
   "cell_type": "markdown",
   "metadata": {},
   "source": [
    "## Prediction\n"
   ]
  },
  {
   "cell_type": "code",
   "execution_count": null,
   "metadata": {},
   "outputs": [],
   "source": [
    "s = 'This patent provides a basis for using a recurrent neural network to '\n"
   ]
  },
  {
   "cell_type": "code",
   "execution_count": 165,
   "metadata": {},
   "outputs": [
    {
     "data": {
      "text/html": [
       "<h1 style=\"color: black;\"><p><center>Input Seed <span style=\"color: red\">Network Output</center></p></h1><div style=\"border:1px inset black;padding:1em;font-size: 20px;\"> <p>This patent provides a basis for using a recurrent neural network to <span style=\"color: red\">which an appropriate neural network includes a fuzzy neural network, which incorporates an estimate of the viewer. The</p></div>"
      ],
      "text/plain": [
       "<IPython.core.display.HTML object>"
      ]
     },
     "execution_count": 165,
     "metadata": {},
     "output_type": "execute_result"
    }
   ],
   "source": [
    "s = 'This patent provides a basis for using a recurrent neural network to '\n",
    "HTML(seed_sequence(model, s, word_idx, idx_word, diversity = 0.75, num_words = 20))"
   ]
  },
  {
   "cell_type": "code",
   "execution_count": null,
   "metadata": {},
   "outputs": [],
   "source": []
  }
 ],
 "metadata": {
  "kernelspec": {
   "display_name": "deepvrm",
   "language": "python",
   "name": "deepvrm"
  },
  "language_info": {
   "codemirror_mode": {
    "name": "ipython",
    "version": 3
   },
   "file_extension": ".py",
   "mimetype": "text/x-python",
   "name": "python",
   "nbconvert_exporter": "python",
   "pygments_lexer": "ipython3",
   "version": "3.6.6"
  }
 },
 "nbformat": 4,
 "nbformat_minor": 2
}
