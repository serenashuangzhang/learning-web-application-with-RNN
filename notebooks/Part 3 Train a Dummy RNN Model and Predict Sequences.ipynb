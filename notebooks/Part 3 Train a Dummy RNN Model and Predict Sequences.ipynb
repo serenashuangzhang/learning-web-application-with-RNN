{
 "cells": [
  {
   "cell_type": "markdown",
   "metadata": {},
   "source": [
    "## Part 3: Build an RNN Model\n",
    "Steps:\n",
    "1. Load data and pre-trained embeddings;\n",
    "2. Model Architecture;\n",
    "3. compile the model;\n",
    "4. Train model using???\n",
    "5. Inference"
   ]
  },
  {
   "cell_type": "code",
   "execution_count": 1,
   "metadata": {},
   "outputs": [],
   "source": [
    "%load_ext autoreload\n",
    "%autoreload 2"
   ]
  },
  {
   "cell_type": "code",
   "execution_count": 2,
   "metadata": {},
   "outputs": [],
   "source": [
    "import warnings\n",
    "from IPython.core.interactiveshell import InteractiveShell\n",
    "from IPython.display import HTML\n",
    "\n",
    "InteractiveShell.ast_node_interactivity = 'all'  # display full outputs in Jupyter\n",
    "warnings.filterwarnings('ignore', category=RuntimeWarning)"
   ]
  },
  {
   "cell_type": "code",
   "execution_count": 3,
   "metadata": {},
   "outputs": [],
   "source": [
    "import os\n",
    "import numpy as np\n",
    "import pandas as pd"
   ]
  },
  {
   "cell_type": "code",
   "execution_count": 4,
   "metadata": {},
   "outputs": [
    {
     "name": "stdout",
     "output_type": "stream",
     "text": [
      "[name: \"/device:CPU:0\"\n",
      "device_type: \"CPU\"\n",
      "memory_limit: 268435456\n",
      "locality {\n",
      "}\n",
      "incarnation: 3616703606219534289\n",
      "]\n"
     ]
    }
   ],
   "source": [
    "from tensorflow.python.client import device_lib\n",
    "print(device_lib.list_local_devices())"
   ]
  },
  {
   "cell_type": "markdown",
   "metadata": {},
   "source": [
    "### Load the data"
   ]
  },
  {
   "cell_type": "code",
   "execution_count": 5,
   "metadata": {},
   "outputs": [
    {
     "name": "stderr",
     "output_type": "stream",
     "text": [
      "Using TensorFlow backend.\n"
     ]
    }
   ],
   "source": [
    "from utils import format_sequence, make_sequences, create_train_valid"
   ]
  },
  {
   "cell_type": "code",
   "execution_count": 6,
   "metadata": {},
   "outputs": [],
   "source": [
    "patent_data = pd.read_csv('../data/neural_network_patent_query.csv', parse_dates=['patent_date'])"
   ]
  },
  {
   "cell_type": "code",
   "execution_count": 7,
   "metadata": {},
   "outputs": [],
   "source": [
    "original_abstracts = list(patent_data['patent_abstract'])\n",
    "abstracts = [format_sequence(i) for i in original_abstracts]"
   ]
  },
  {
   "cell_type": "code",
   "execution_count": 8,
   "metadata": {},
   "outputs": [
    {
     "name": "stdout",
     "output_type": "stream",
     "text": [
      "There are 11695 unique words.\n",
      "There are 293001 sequences.\n"
     ]
    }
   ],
   "source": [
    "# generate sequences\n",
    "word_idx, idx_word, num_words, word_counts, new_texts, new_sequences, features, labels = make_sequences(abstracts)"
   ]
  },
  {
   "cell_type": "code",
   "execution_count": 9,
   "metadata": {},
   "outputs": [],
   "source": [
    "X_train, X_valid, y_train, y_valid = create_train_valid(features, labels, num_words)"
   ]
  },
  {
   "cell_type": "code",
   "execution_count": 24,
   "metadata": {},
   "outputs": [],
   "source": [
    "# create a dict for training / validation set\n",
    "training_dict = {'X_train': X_train, 'X_valid': X_valid, 'y_train': y_train, 'y_valid': y_valid}"
   ]
  },
  {
   "cell_type": "markdown",
   "metadata": {},
   "source": [
    "### Build the model"
   ]
  },
  {
   "cell_type": "markdown",
   "metadata": {},
   "source": [
    "With data encoded as integers and an embedding matrix of pre-trained word vectors, we're ready to build the recurrent neural network. This model is relatively simple and uses an LSTM cell as the heart of the network. After converting the words into embeddings, we pass them through a single LSTM layer, then into a fully connected layer with relu activation before the final output layer with a softmax activation. The final layer produces a probability for every word in the vocab.\n",
    "\n",
    "When training, these predictions are compared to the actual label using the categorical_crossentropy to calculate a loss. The parameters (weights) in the network are then updated using the Adam optimizer (a variant on Stochastic Gradient Descent) with gradients calculated through backpropagation. Fortunately, Keras handles all of this behind the scenes, so we just have to set up the network and then start the training. The most difficult part is figuring out the correct shapes for the inputs and outputs into the model."
   ]
  },
  {
   "cell_type": "markdown",
   "metadata": {},
   "source": [
    "### Make RNN \n",
    "- Embedding dimension = 100\n",
    "- 64 LSTM cells in one layer\n",
    "- Dropout and recurrent dropout for regularization\n",
    "- Fully connected layer with 64 units on top of LSTM\n",
    "- 'relu' activation\n",
    "- Drop out for regularization\n",
    "- Output layer produces prediction for each word\n",
    "- 'softmax' activation\n",
    "- Adam optimizer with defaults\n",
    "- Categorical cross entropy loss\n",
    "- Monitor accuracy"
   ]
  },
  {
   "cell_type": "code",
   "execution_count": 10,
   "metadata": {},
   "outputs": [],
   "source": [
    "from keras.models import Sequential, load_model\n",
    "from keras.layers import LSTM, Dense, Dropout, Embedding, Masking, Bidirectional\n",
    "from keras.optimizers import Adam\n",
    "\n",
    "from keras.utils import plot_model"
   ]
  },
  {
   "cell_type": "markdown",
   "metadata": {},
   "source": [
    "A dummy RMM model"
   ]
  },
  {
   "cell_type": "code",
   "execution_count": 26,
   "metadata": {},
   "outputs": [
    {
     "data": {
      "text/plain": [
       "(205100, 50)"
      ]
     },
     "execution_count": 26,
     "metadata": {},
     "output_type": "execute_result"
    },
    {
     "data": {
      "text/plain": [
       "(87901, 50)"
      ]
     },
     "execution_count": 26,
     "metadata": {},
     "output_type": "execute_result"
    },
    {
     "data": {
      "text/plain": [
       "(205100, 11695)"
      ]
     },
     "execution_count": 26,
     "metadata": {},
     "output_type": "execute_result"
    },
    {
     "data": {
      "text/plain": [
       "(87901, 11695)"
      ]
     },
     "execution_count": 26,
     "metadata": {},
     "output_type": "execute_result"
    }
   ],
   "source": [
    "X_train.shape\n",
    "X_valid.shape\n",
    "y_train.shape\n",
    "y_valid.shape"
   ]
  },
  {
   "cell_type": "code",
   "execution_count": 24,
   "metadata": {},
   "outputs": [
    {
     "data": {
      "text/plain": [
       "11695"
      ]
     },
     "execution_count": 24,
     "metadata": {},
     "output_type": "execute_result"
    }
   ],
   "source": [
    "# unique words\n",
    "len(idx_word) + 1"
   ]
  },
  {
   "cell_type": "code",
   "execution_count": 23,
   "metadata": {},
   "outputs": [
    {
     "data": {
      "text/plain": [
       "11694"
      ]
     },
     "execution_count": 23,
     "metadata": {},
     "output_type": "execute_result"
    }
   ],
   "source": [
    "len(word_idx)"
   ]
  },
  {
   "cell_type": "markdown",
   "metadata": {},
   "source": [
    "## Model 1: Dummy LSTM: training our own embeddings"
   ]
  },
  {
   "cell_type": "code",
   "execution_count": 49,
   "metadata": {},
   "outputs": [],
   "source": [
    "model = Sequential()"
   ]
  },
  {
   "cell_type": "code",
   "execution_count": 50,
   "metadata": {},
   "outputs": [],
   "source": [
    "# Embedding layer: https://keras.io/layers/embeddings/\n",
    "# This layer can only be used as the first layer in a model. Turns indexes into dense vectors of fixed size. \n",
    "# Input_dim: size of the vocabulary; Output_dim: dimension of the dense embedding\n",
    "# In this case, we generate 100 dimension embeddings without using pre-trained embeddings. \n",
    "model.add(\n",
    "    Embedding(\n",
    "        input_dim=len(word_idx) + 1,\n",
    "        output_dim=100\n",
    "#         embeddings_initializer  # set to the pretrained word vectors\n",
    "#         trainable=False\n",
    "    )\n",
    ")\n"
   ]
  },
  {
   "cell_type": "code",
   "execution_count": 51,
   "metadata": {},
   "outputs": [],
   "source": [
    "# Recurrent LSTM layer\n",
    "model.add(\n",
    "    LSTM(\n",
    "        64,\n",
    "        return_sequences=False,\n",
    "        dropout=0.1,\n",
    "        recurrent_dropout=0.1\n",
    "    )\n",
    ")"
   ]
  },
  {
   "cell_type": "code",
   "execution_count": 52,
   "metadata": {},
   "outputs": [],
   "source": [
    "# Fully Connected layer\n",
    "model.add(\n",
    "    Dense(64, input_shape=(64,), activation='relu')\n",
    ")"
   ]
  },
  {
   "cell_type": "code",
   "execution_count": 53,
   "metadata": {},
   "outputs": [],
   "source": [
    "# Dropout for regularization\n",
    "model.add(Dropout(0.5))"
   ]
  },
  {
   "cell_type": "code",
   "execution_count": 54,
   "metadata": {},
   "outputs": [],
   "source": [
    "# Output layer\n",
    "# output layer predict a probability for each word\n",
    "model.add(\n",
    "    Dense(len(word_idx) + 1, input_shape=(64,), activation='softmax')\n",
    ")"
   ]
  },
  {
   "cell_type": "code",
   "execution_count": 55,
   "metadata": {},
   "outputs": [
    {
     "name": "stdout",
     "output_type": "stream",
     "text": [
      "_________________________________________________________________\n",
      "Layer (type)                 Output Shape              Param #   \n",
      "=================================================================\n",
      "embedding_5 (Embedding)      (None, None, 100)         1169500   \n",
      "_________________________________________________________________\n",
      "lstm_4 (LSTM)                (None, 64)                42240     \n",
      "_________________________________________________________________\n",
      "dense_7 (Dense)              (None, 64)                4160      \n",
      "_________________________________________________________________\n",
      "dropout_4 (Dropout)          (None, 64)                0         \n",
      "_________________________________________________________________\n",
      "dense_8 (Dense)              (None, 11695)             760175    \n",
      "=================================================================\n",
      "Total params: 1,976,075\n",
      "Trainable params: 1,976,075\n",
      "Non-trainable params: 0\n",
      "_________________________________________________________________\n"
     ]
    }
   ],
   "source": [
    "# Compile the model\n",
    "# Optimizer: Adam \n",
    "# Loss function: categorical crossentropy\n",
    "# metrics: accuracy\n",
    "model.compile(\n",
    "    optimizer='adam', loss='categorical_crossentropy', metrics=['accuracy']\n",
    ")\n",
    "\n",
    "model.summary()"
   ]
  },
  {
   "cell_type": "markdown",
   "metadata": {},
   "source": [
    "The model needs a loss to minimize (categorical_crossentropy) as well as a method for updating the weights using the gradients (Adam). We will also monitor accuracy which is not a good loss but can give us a more interpretable measure of the model performance.\n",
    "\n",
    "Using pre-trained embeddings means we have about half the parameters to train. However, this also means that the embeddings might not be the best for our data, and there are a number of words with no embeddings"
   ]
  },
  {
   "cell_type": "code",
   "execution_count": 61,
   "metadata": {},
   "outputs": [
    {
     "name": "stdout",
     "output_type": "stream",
     "text": [
      "Built dummy-rnn Model.\n"
     ]
    },
    {
     "data": {
      "image/png": "[encoded data removed]",
      "text/plain": [
       "<IPython.core.display.Image object>"
      ]
     },
     "execution_count": 61,
     "metadata": {},
     "output_type": "execute_result"
    }
   ],
   "source": [
    "from IPython.display import Image\n",
    "model_name = 'dummy-rnn'\n",
    "model_dir = '../models/'\n",
    "\n",
    "plot_model(model, to_file=f'{model_dir}{model_name}.png', show_shapes=True)\n",
    "\n",
    "print(f'Built {model_name} Model.')\n",
    "Image(f'{model_dir}{model_name}.png')"
   ]
  },
  {
   "cell_type": "code",
   "execution_count": 111,
   "metadata": {},
   "outputs": [],
   "source": [
    "# Call backs\n",
    "from keras.callbacks import EarlyStopping, ModelCheckpoint\n",
    "\n",
    "callbacks = [\n",
    "    EarlyStopping(monitor='val_loss', patience=5),\n",
    "    ModelCheckpoint(f'{model_dir}{model_name}.h5', save_best_only=True,\n",
    "                   save_weights_only=False)\n",
    "]"
   ]
  },
  {
   "cell_type": "code",
   "execution_count": 57,
   "metadata": {},
   "outputs": [
    {
     "name": "stdout",
     "output_type": "stream",
     "text": [
      "Train on 205100 samples, validate on 87901 samples\n",
      "Epoch 1/5\n",
      "205100/205100 [==============================] - 223s 1ms/step - loss: 7.2639 - acc: 0.0654 - val_loss: 6.3358 - val_acc: 0.0931\n",
      "Epoch 2/5\n",
      "205100/205100 [==============================] - 221s 1ms/step - loss: 6.3322 - acc: 0.0919 - val_loss: 6.2479 - val_acc: 0.0931\n",
      "Epoch 3/5\n",
      "205100/205100 [==============================] - 218s 1ms/step - loss: 6.2626 - acc: 0.0919 - val_loss: 6.2404 - val_acc: 0.0931\n",
      "Epoch 4/5\n",
      "205100/205100 [==============================] - 214s 1ms/step - loss: 6.2393 - acc: 0.0919 - val_loss: 6.2328 - val_acc: 0.0931\n",
      "Epoch 5/5\n",
      "205100/205100 [==============================] - 217s 1ms/step - loss: 6.2107 - acc: 0.0924 - val_loss: 6.1960 - val_acc: 0.0931\n"
     ]
    },
    {
     "data": {
      "text/plain": [
       "<keras.callbacks.History at 0x1389e8320>"
      ]
     },
     "execution_count": 57,
     "metadata": {},
     "output_type": "execute_result"
    }
   ],
   "source": [
    "# Fit model\n",
    "model.fit(\n",
    "    training_dict['X_train'], \n",
    "    training_dict['y_train'], \n",
    "    epochs=5, \n",
    "    batch_size=2048,\n",
    "    validation_data = (training_dict['X_valid'], training_dict['y_valid']),\n",
    "    verbose=1\n",
    ")"
   ]
  },
  {
   "cell_type": "markdown",
   "metadata": {},
   "source": [
    "## Evaluate the model and save model"
   ]
  },
  {
   "cell_type": "code",
   "execution_count": 59,
   "metadata": {},
   "outputs": [
    {
     "name": "stdout",
     "output_type": "stream",
     "text": [
      "87901/87901 [==============================] - 24s 274us/step\n"
     ]
    }
   ],
   "source": [
    "scores = model.evaluate(\n",
    "    X_valid, \n",
    "    y_valid, \n",
    "    batch_size=2048\n",
    ")"
   ]
  },
  {
   "cell_type": "code",
   "execution_count": 60,
   "metadata": {},
   "outputs": [
    {
     "name": "stdout",
     "output_type": "stream",
     "text": [
      "Cross Entropy: 6.196 \n",
      "Accuracy: 9.31% \n"
     ]
    }
   ],
   "source": [
    "print(f'Cross Entropy: {round(scores[0], 4)} ')\n",
    "print(f'Accuracy: {100*round(scores[1], 4)}% ')"
   ]
  },
  {
   "cell_type": "markdown",
   "metadata": {},
   "source": [
    "save the Keras model into a single HDF5 file which will contain:\n",
    "- the architecture of the model, allowing to re-create the model\n",
    "- the weights of the model\n",
    "- the training configuration (loss, optimizer)\n",
    "- the state of the optimizer, allowing to resume training exactly where you left off."
   ]
  },
  {
   "cell_type": "code",
   "execution_count": 64,
   "metadata": {},
   "outputs": [],
   "source": [
    "# serialize model to HDF5\n",
    "model.save(f'{model_dir}{model_name}.h5')"
   ]
  },
  {
   "cell_type": "markdown",
   "metadata": {},
   "source": [
    "## Generating prediction"
   ]
  },
  {
   "cell_type": "markdown",
   "metadata": {},
   "source": [
    "Here, by using the RNN model, we are able to get a maximum probability for each word, which is used to predict the next word, given inputs of a sequences. \n",
    "To generate an inference, we need to put in a sequence of integers first. Starting off with a seed sequence with a seed_length = 50. "
   ]
  },
  {
   "cell_type": "markdown",
   "metadata": {},
   "source": [
    "One important parameter for the output is the diversity of the predictions. Instead of using the predicted word with the highest probability, we inject diversity into the predictions and then choose the next word with a probability proportional to the more diverse predictions. Too high a diversity and the generated output starts to seem random, but too low and the network can get into recursive loops of output."
   ]
  },
  {
   "cell_type": "code",
   "execution_count": 105,
   "metadata": {},
   "outputs": [],
   "source": [
    "# Create a Tokenizer\n",
    "from keras.preprocessing.text import Tokenizer\n",
    "tokenizer = Tokenizer(num_words=None,\n",
    "                     filters='!\"#$%&()*+,-./:;<=>?@[\\\\]^_`{|}~\\t\\n',\n",
    "                     lower=True,\n",
    "                     split=' ' \n",
    "                     )"
   ]
  },
  {
   "cell_type": "code",
   "execution_count": 106,
   "metadata": {},
   "outputs": [],
   "source": [
    "# Train the tokenizer to the texts\n",
    "tokenizer.fit_on_texts(abstracts)\n",
    "\n",
    "# Convert list of strings into list of integers\n",
    "sequences = tokenizer.texts_to_sequences(abstracts)"
   ]
  },
  {
   "cell_type": "code",
   "execution_count": 67,
   "metadata": {},
   "outputs": [],
   "source": [
    "import random"
   ]
  },
  {
   "cell_type": "code",
   "execution_count": 107,
   "metadata": {},
   "outputs": [
    {
     "data": {
      "text/plain": [
       "131"
      ]
     },
     "execution_count": 107,
     "metadata": {},
     "output_type": "execute_result"
    }
   ],
   "source": [
    "seq = random.choice(sequences)\n",
    "len(seq)"
   ]
  },
  {
   "cell_type": "code",
   "execution_count": 72,
   "metadata": {},
   "outputs": [],
   "source": [
    "# Choose a random starting point\n",
    "seed_length = 50\n",
    "seed_start_idx = random.randint(0, len(seq) - seed_length - 10)\n",
    "seed_end_idx = seed_start_idx + seed_length"
   ]
  },
  {
   "cell_type": "code",
   "execution_count": 76,
   "metadata": {},
   "outputs": [
    {
     "data": {
      "text/plain": [
       "50"
      ]
     },
     "execution_count": 76,
     "metadata": {},
     "output_type": "execute_result"
    }
   ],
   "source": [
    "# Extract the seed sequence\n",
    "seed_seq = seq[seed_start_idx:seed_end_idx]\n",
    "original_seed_seq = [idx_word[i] for i in seed_seq]\n",
    "len(original_seed_seq)"
   ]
  },
  {
   "cell_type": "code",
   "execution_count": 82,
   "metadata": {},
   "outputs": [],
   "source": [
    "# actual sequences with new words \n",
    "new_words = 30\n",
    "actual = seed_seq[:] + seq[seed_end_idx:seed_end_idx + new_words]"
   ]
  },
  {
   "cell_type": "code",
   "execution_count": 98,
   "metadata": {},
   "outputs": [],
   "source": [
    "# generate one new word\n",
    "# The input data, as a Numpy array (or list of Numpy arrays if the model has multiple inputs).\n",
    "pred_output = model.predict(np.array(seed_seq).reshape(1, -1))[0].astype(np.float64)"
   ]
  },
  {
   "cell_type": "code",
   "execution_count": 99,
   "metadata": {},
   "outputs": [],
   "source": [
    "# The diversity controls the amount of stochasticity in the predictions: the next word predicted is selected based on the probabilities of the predictions.\n",
    "diversity = 0.75\n",
    "exp_preds = np.exp(np.log(pred_output) / diversity)\n",
    "\n",
    "# Softmax\n",
    "preds = exp_preds / sum(exp_preds)"
   ]
  },
  {
   "cell_type": "code",
   "execution_count": 100,
   "metadata": {},
   "outputs": [
    {
     "data": {
      "text/plain": [
       "(11695,)"
      ]
     },
     "execution_count": 100,
     "metadata": {},
     "output_type": "execute_result"
    }
   ],
   "source": [
    "preds.shape"
   ]
  },
  {
   "cell_type": "code",
   "execution_count": 101,
   "metadata": {},
   "outputs": [
    {
     "data": {
      "text/plain": [
       "(11695,)"
      ]
     },
     "execution_count": 101,
     "metadata": {},
     "output_type": "execute_result"
    }
   ],
   "source": [
    "probas = np.random.multinomial(1, preds, 1)[0]\n",
    "probas.shape"
   ]
  },
  {
   "cell_type": "code",
   "execution_count": 112,
   "metadata": {},
   "outputs": [
    {
     "data": {
      "text/plain": [
       "'a'"
      ]
     },
     "execution_count": 112,
     "metadata": {},
     "output_type": "execute_result"
    }
   ],
   "source": [
    "next_idx = np.argmax(probas)\n",
    "idx_word.get(next_idx, None)"
   ]
  },
  {
   "cell_type": "markdown",
   "metadata": {},
   "source": [
    "### Generate a sequence of new words and comparing to actual sequence"
   ]
  },
  {
   "cell_type": "code",
   "execution_count": 118,
   "metadata": {},
   "outputs": [],
   "source": [
    "new_id = seed_seq\n",
    "new_w_seq = original_seed_seq\n",
    "    \n",
    "for w in range(new_words):\n",
    "    pred_output = model.predict(np.array(new_id).reshape(1, -1))[0].astype(np.float64)\n",
    "    exp_preds = np.exp(np.log(pred_output) / diversity)\n",
    "    preds = exp_preds / sum(exp_preds)\n",
    "    probas = np.random.multinomial(1, preds, 1)[0]\n",
    "    \n",
    "    next_idx = np.argmax(probas)\n",
    "    next_word = idx_word.get(next_idx, None)\n",
    "    \n",
    "    new_id += [next_idx]\n",
    "    new_w_seq.append(next_word)   \n"
   ]
  },
  {
   "cell_type": "markdown",
   "metadata": {},
   "source": [
    "### Prediction"
   ]
  },
  {
   "cell_type": "code",
   "execution_count": 120,
   "metadata": {},
   "outputs": [],
   "source": [
    "from utils import seed_sequence"
   ]
  },
  {
   "cell_type": "code",
   "execution_count": 121,
   "metadata": {},
   "outputs": [],
   "source": [
    "s = 'This patent provides a basis for using a recurrent neural network to '"
   ]
  },
  {
   "cell_type": "code",
   "execution_count": 122,
   "metadata": {},
   "outputs": [
    {
     "data": {
      "text/html": [
       "<h1 style=\"color: black;\"><p><center>Input Seed <span style=\"color: red\">Network Output</center></p></h1><div style=\"border:1px inset black;padding:1em;font-size: 20px;\"> <p>This patent provides a basis for using a recurrent neural network to <span style=\"color: red\">the format a the the abnormal on to the brake more detection means sample the developed to neural a the</p></div>"
      ],
      "text/plain": [
       "<IPython.core.display.HTML object>"
      ]
     },
     "execution_count": 122,
     "metadata": {},
     "output_type": "execute_result"
    }
   ],
   "source": [
    "s = 'This patent provides a basis for using a recurrent neural network to '\n",
    "HTML(seed_sequence(model, s, word_idx, idx_word, diversity = 0.75, num_words = 20))"
   ]
  },
  {
   "cell_type": "code",
   "execution_count": null,
   "metadata": {},
   "outputs": [],
   "source": []
  }
 ],
 "metadata": {
  "kernelspec": {
   "display_name": "deepvrm",
   "language": "python",
   "name": "deepvrm"
  },
  "language_info": {
   "codemirror_mode": {
    "name": "ipython",
    "version": 3
   },
   "file_extension": ".py",
   "mimetype": "text/x-python",
   "name": "python",
   "nbconvert_exporter": "python",
   "pygments_lexer": "ipython3",
   "version": "3.6.6"
  }
 },
 "nbformat": 4,
 "nbformat_minor": 2
}
